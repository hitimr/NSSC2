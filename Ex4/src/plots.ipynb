{
 "cells": [
  {
   "cell_type": "code",
   "execution_count": null,
   "metadata": {},
   "outputs": [],
   "source": [
    "import numpy as np\n",
    "import matplotlib.pyplot as plt\n",
    "\n",
    "#include parent folder\n",
    "import os,sys,inspect\n",
    "currentdir = os.path.dirname(os.path.abspath(inspect.getfile(inspect.currentframe())))\n",
    "parentdir = os.path.dirname(currentdir)\n",
    "sys.path.insert(0,parentdir) \n",
    "\n",
    "\n",
    "from mesh import *\n",
    "from misc import *"
   ]
  },
  {
   "cell_type": "code",
   "execution_count": null,
   "metadata": {},
   "outputs": [],
   "source": [
    "mesh = Mesh('V0')\n",
    "mesh.solve()\n",
    "\n",
    "mesh.plot_flux(DIR_OUT+'V0.png',\"Flux Plot for V0\")\n",
    "mesh.plot_gradient(DIR_OUT+'V0.png',\"Gradient Plot for V0\")"
   ]
  },
  {
   "cell_type": "code",
   "execution_count": null,
   "metadata": {},
   "outputs": [],
   "source": [
    "mesh = Mesh('V1')\n",
    "mesh.solve()\n",
    "\n",
    "mesh.plot_flux(DIR_OUT+'V1.png',\"Flux Plot for V1\")\n",
    "mesh.plot_gradient(DIR_OUT+'V1.png',\"Gradient Plot for V1\")"
   ]
  },
  {
   "cell_type": "code",
   "execution_count": null,
   "metadata": {},
   "outputs": [],
   "source": [
    "mesh = Mesh('V2')\n",
    "mesh.solve()\n",
    "\n",
    "mesh.plot_flux(DIR_OUT+'V0.png',\"Flux Plot for V2\")\n",
    "mesh.plot_gradient(DIR_OUT+'V0.png',\"Gradient Plot for V2\")"
   ]
  },
  {
   "cell_type": "code",
   "execution_count": null,
   "metadata": {},
   "outputs": [],
   "source": [
    "mesh = Mesh('V3')\n",
    "mesh.solve()\n",
    "\n",
    "mesh.plot_flux(DIR_OUT+'V0.png',\"Flux Plot for V3\")\n",
    "mesh.plot_gradient(DIR_OUT+'V0.png',\"Gradient Plot for V3\")"
   ]
  },
  {
   "cell_type": "code",
   "execution_count": null,
   "metadata": {},
   "outputs": [],
   "source": [
    "mesh = Mesh('V4a')\n",
    "mesh.solve()\n",
    "\n",
    "mesh.plot_flux(DIR_OUT+'V0.png',\"Flux Plot for V4a\")\n",
    "mesh.plot_gradient(DIR_OUT+'V0.png',\"Gradient Plot for V4a\")"
   ]
  },
  {
   "cell_type": "code",
   "execution_count": null,
   "metadata": {},
   "outputs": [],
   "source": [
    "mesh = Mesh('V4b')\n",
    "mesh.solve()\n",
    "\n",
    "mesh.plot_flux(DIR_OUT+'V0.png',\"Flux Plot for V4b\")\n",
    "mesh.plot_gradient(DIR_OUT+'V0.png',\"Gradient Plot for V4b\")"
   ]
  },
  {
   "cell_type": "code",
   "execution_count": null,
   "metadata": {},
   "outputs": [],
   "source": []
  }
 ],
 "metadata": {
  "kernelspec": {
   "display_name": "Python 3",
   "language": "python",
   "name": "python3"
  },
  "language_info": {
   "codemirror_mode": {
    "name": "ipython",
    "version": 3
   },
   "file_extension": ".py",
   "mimetype": "text/x-python",
   "name": "python",
   "nbconvert_exporter": "python",
   "pygments_lexer": "ipython3",
   "version": "3.7.4"
  },
  "metadata": {
   "interpreter": {
    "hash": "9a83436940b59065249e0ac591e9ccdbda7a53659a5b7e612c47492e8a127fdd"
   }
  }
 },
 "nbformat": 4,
 "nbformat_minor": 2
}
