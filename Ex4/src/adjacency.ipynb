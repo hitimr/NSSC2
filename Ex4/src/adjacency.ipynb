{
 "metadata": {
  "language_info": {
   "codemirror_mode": {
    "name": "ipython",
    "version": 3
   },
   "file_extension": ".py",
   "mimetype": "text/x-python",
   "name": "python",
   "nbconvert_exporter": "python",
   "pygments_lexer": "ipython3",
   "version": "3.8.5"
  },
  "orig_nbformat": 2,
  "kernelspec": {
   "name": "python385jvsc74a57bd031f2aee4e71d21fbe5cf8b01ff0e069b9275f58929596ceb00d14d90e3e16cd6",
   "display_name": "Python 3.8.5 64-bit ('usr')"
  },
  "metadata": {
   "interpreter": {
    "hash": "31f2aee4e71d21fbe5cf8b01ff0e069b9275f58929596ceb00d14d90e3e16cd6"
   }
  }
 },
 "nbformat": 4,
 "nbformat_minor": 2,
 "cells": [
  {
   "source": [
    "\n",
    "•\tAlgorithmus entwerfen um das Mesh in eine Adjazenzmatrix zu übersetzen. Evtll auch schon testweise implementieren. Fürs erste reichts wenn nur mal 1er in der Matrix stehen.\n",
    "\n",
    "•\tMach dir bitte auch Gedanken, welche Parameter wir für die Initialisierung brauchen\n",
    "\n",
    "Hab vergessen das ncoh in die Mal zu geben: Bezüglich Mesh schau dir auch bitte Punk 6 - Variations an, ob wir das mit unserer Struktur implementieren könnenn. Meiner Meinung sollten wir den bias einfach auf die einzelnen Matrixelemente draufmultiplizieren können, aber ich bin mir da nicht 100% sicher"
   ],
   "cell_type": "markdown",
   "metadata": {}
  },
  {
   "cell_type": "code",
   "execution_count": 4,
   "metadata": {},
   "outputs": [],
   "source": [
    "import math\n",
    "import numpy"
   ]
  },
  {
   "cell_type": "code",
   "execution_count": 5,
   "metadata": {},
   "outputs": [],
   "source": [
    "#position of finite element in 9x9 mes\n",
    "def posFE(FE):\n",
    "    posFEx = math.ceil(((FE-2)%18)/2)\n",
    "    posFEy = math.ceil((FE-2)/18-1)\n",
    "    posrel = \"lower\"\n",
    "    if FE%2 == 0: posrel = \"upper\"\n",
    "    return [posFEx, posFEy, posrel]\n",
    "\n",
    "\n",
    "#returns adjacency matrix for regular mesh in Figure 1 (assignment)\n",
    "def generate_adjacency(nnodes):\n",
    "\n",
    "    if int(nnodes**0.5)*int(nnodes**0.5)!=nnodes: return \"[ENTER NODE NUMBER OF SQUARE-SHAPED DOMAIN]\"\n",
    "\n",
    "    n = int(nnodes**0.5)\n",
    "    A = numpy.zeros([nnodes,nnodes])\n",
    "\n",
    "    #fill matrix neglecting boundary nodes\n",
    "    hshift = 1 #horizontal shift\n",
    "    vshift = n #vertical shift\n",
    "    dshift = n - 1 #diagonal shift from bottom right to upper left\n",
    "    dshift2 = n + 1 #diagonal shift other direction (not used!)\n",
    "    for i in range(nnodes-hshift): #horizontal\n",
    "        A[i,i+hshift] = 1\n",
    "        A[i+hshift,i] = 1\n",
    "    for i in range(nnodes-vshift): #vertical\n",
    "        A[i,i+vshift] = 1\n",
    "        A[i+vshift,i] = 1\n",
    "    for i in range(nnodes-dshift): #diagonal\n",
    "        A[i,i+dshift] = 1\n",
    "        A[i+dshift,i] = 1\n",
    "    \n",
    "    #correct boundary nodes\n",
    "    hskip = n\n",
    "    dskip = n\n",
    "    for i in range(n,nnodes-hshift,hskip): #horizontal\n",
    "        A[i-hshift,i] = 0\n",
    "        A[i,i-hshift] = 0\n",
    "    #vertikal muss nicht korrigert werden\n",
    "    for i in range(n-1,nnodes,dskip): #diagonal\n",
    "        A[i-dshift,i] = 0\n",
    "        A[i,i-dshift] = 0\n",
    "\n",
    "    return A"
   ]
  },
  {
   "cell_type": "code",
   "execution_count": 12,
   "metadata": {},
   "outputs": [
    {
     "output_type": "stream",
     "name": "stdout",
     "text": [
      "[1, 2, 'upper']\n[[0. 1. 0. 0. 1. 0. 0. 0. 0. 0. 0. 0. 0. 0. 0. 0.]\n [1. 0. 1. 0. 1. 1. 0. 0. 0. 0. 0. 0. 0. 0. 0. 0.]\n [0. 1. 0. 1. 0. 1. 1. 0. 0. 0. 0. 0. 0. 0. 0. 0.]\n [0. 0. 1. 0. 0. 0. 1. 1. 0. 0. 0. 0. 0. 0. 0. 0.]\n [1. 1. 0. 0. 0. 1. 0. 0. 1. 0. 0. 0. 0. 0. 0. 0.]\n [0. 1. 1. 0. 1. 0. 1. 0. 1. 1. 0. 0. 0. 0. 0. 0.]\n [0. 0. 1. 1. 0. 1. 0. 1. 0. 1. 1. 0. 0. 0. 0. 0.]\n [0. 0. 0. 1. 0. 0. 1. 0. 0. 0. 1. 1. 0. 0. 0. 0.]\n [0. 0. 0. 0. 1. 1. 0. 0. 0. 1. 0. 0. 1. 0. 0. 0.]\n [0. 0. 0. 0. 0. 1. 1. 0. 1. 0. 1. 0. 1. 1. 0. 0.]\n [0. 0. 0. 0. 0. 0. 1. 1. 0. 1. 0. 1. 0. 1. 1. 0.]\n [0. 0. 0. 0. 0. 0. 0. 1. 0. 0. 1. 0. 0. 0. 1. 1.]\n [0. 0. 0. 0. 0. 0. 0. 0. 1. 1. 0. 0. 0. 1. 0. 0.]\n [0. 0. 0. 0. 0. 0. 0. 0. 0. 1. 1. 0. 1. 0. 1. 0.]\n [0. 0. 0. 0. 0. 0. 0. 0. 0. 0. 1. 1. 0. 1. 0. 1.]\n [0. 0. 0. 0. 0. 0. 0. 0. 0. 0. 0. 1. 0. 0. 1. 0.]]\n"
     ]
    }
   ],
   "source": [
    "print(posFE(FE=40))\n",
    "print(generate_adjacency(nnodes=16))"
   ]
  },
  {
   "cell_type": "code",
   "execution_count": null,
   "metadata": {},
   "outputs": [],
   "source": []
  },
  {
   "cell_type": "code",
   "execution_count": null,
   "metadata": {},
   "outputs": [],
   "source": []
  },
  {
   "cell_type": "code",
   "execution_count": null,
   "metadata": {},
   "outputs": [],
   "source": []
  },
  {
   "cell_type": "code",
   "execution_count": null,
   "metadata": {},
   "outputs": [],
   "source": []
  },
  {
   "cell_type": "code",
   "execution_count": 7,
   "metadata": {},
   "outputs": [
    {
     "output_type": "stream",
     "name": "stdout",
     "text": [
      "[[ 0. 11.  0. 66.  0.  0.  0.  0.  0.]\n [11.  0. 11.  8. 66.  0.  0.  0.  0.]\n [ 0. 11.  0.  0.  8. 66.  0.  0.  0.]\n [66.  8.  0.  0. 11.  0. 66.  0.  0.]\n [ 0. 66.  8. 11.  0. 11.  8. 66.  0.]\n [ 0.  0. 66.  0. 11.  0.  0.  8. 66.]\n [ 0.  0.  0. 66.  8.  0.  0. 11.  0.]\n [ 0.  0.  0.  0. 66.  8. 11.  0. 11.]\n [ 0.  0.  0.  0.  0. 66.  0. 11.  0.]]\n"
     ]
    }
   ],
   "source": [
    "#nnodes = 3\n",
    "nnodes = 9 #nodes in each dimension on squared domain\n",
    "n = int(nnodes**0.5)\n",
    "A = numpy.zeros([nnodes,nnodes])\n",
    "\n",
    "\n",
    "# ohne berücksichtigung der randnodes:\n",
    "hshift = 1 #horizontal shift\n",
    "vshift = n #vertical shift\n",
    "dshift = n - 1 #diagonal shift from bottom right to upper left\n",
    "dshift2 = n + 1 #diagonal shift other direction (not used)\n",
    "\n",
    "for i in range(nnodes-hshift): #horizontal\n",
    "    A[i,i+hshift] = 11\n",
    "    A[i+hshift,i] = 11\n",
    "for i in range(nnodes-vshift): #vertical\n",
    "    A[i,i+vshift] = 66\n",
    "    A[i+vshift,i] = 66\n",
    "for i in range(nnodes-dshift): #diagonal\n",
    "    A[i,i+dshift] = 8\n",
    "    A[i+dshift,i] = 8\n",
    "\n",
    "# nodes on the boundary of the domain:\n",
    "hskip = n\n",
    "dskip = n\n",
    "\n",
    "#for nodes that dont have both right and left neighbour\n",
    "\n",
    "for i in range(n,nnodes-hshift,hskip): #horizontal\n",
    "    A[i-hshift,i] = 0\n",
    "    A[i,i-hshift] = 0\n",
    "for i in range(n-1,nnodes,dskip): #diagonal\n",
    "    A[i-dshift,i] = 0\n",
    "    A[i,i-dshift] = 0\n",
    "\n",
    "print(A)"
   ]
  }
 ]
}