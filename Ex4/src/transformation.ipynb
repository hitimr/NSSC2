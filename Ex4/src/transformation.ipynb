{
 "metadata": {
  "language_info": {
   "codemirror_mode": {
    "name": "ipython",
    "version": 3
   },
   "file_extension": ".py",
   "mimetype": "text/x-python",
   "name": "python",
   "nbconvert_exporter": "python",
   "pygments_lexer": "ipython3",
   "version": "3.9.4"
  },
  "orig_nbformat": 2,
  "kernelspec": {
   "name": "python394jvsc74a57bd0ac59ebe37160ed0dfa835113d9b8498d9f09ceb179beaac4002f036b9467c963",
   "display_name": "Python 3.9.4 64-bit"
  },
  "metadata": {
   "interpreter": {
    "hash": "ac59ebe37160ed0dfa835113d9b8498d9f09ceb179beaac4002f036b9467c963"
   }
  }
 },
 "nbformat": 4,
 "nbformat_minor": 2,
 "cells": [
  {
   "cell_type": "code",
   "execution_count": 1,
   "metadata": {},
   "outputs": [],
   "source": [
    "import numpy as np\n",
    "import matplotlib.pyplot as plt"
   ]
  },
  {
   "cell_type": "code",
   "execution_count": 32,
   "metadata": {},
   "outputs": [],
   "source": [
    "nx = 10\n",
    "ny = 10\n",
    "L = 1\n",
    "\n",
    "r_vals = np.linspace(L, 2*L, nx)\n",
    "phi_vals = np.linspace(0, np.pi/4, ny)\n",
    "\n",
    "\n",
    "r, phi = np.meshgrid(r_vals, phi_vals)\n",
    "\n",
    "x,y = [], []\n",
    "for i in range(len(r)):\n",
    "    x.append(r[i]*np.cos(phi[i]))\n",
    "    y.append(r[i]*np.sin(phi[i]))\n",
    "\n",
    "x = np.array(x)\n",
    "y = np.array(y)"
   ]
  },
  {
   "cell_type": "code",
   "execution_count": 16,
   "metadata": {},
   "outputs": [
    {
     "output_type": "execute_result",
     "data": {
      "text/plain": [
       "array([0.        , 0.08726646, 0.17453293, 0.26179939, 0.34906585,\n",
       "       0.43633231, 0.52359878, 0.61086524, 0.6981317 , 0.78539816])"
      ]
     },
     "metadata": {},
     "execution_count": 16
    }
   ],
   "source": [
    "phi_vals"
   ]
  },
  {
   "cell_type": "code",
   "execution_count": 20,
   "metadata": {},
   "outputs": [
    {
     "output_type": "stream",
     "name": "stdout",
     "text": [
      "R:(10,)\nTHETA:(45,)\nmeshgrid radii:(45, 10)\nmehgrid thetas:(45, 10)\n"
     ]
    }
   ],
   "source": [
    "R = np.linspace(1,5,10)\n",
    "\n",
    "THETA = np.linspace(0, np.pi, 45)\n",
    "\n",
    "radii, thetas = np.meshgrid(R,THETA)\n",
    "\n",
    "print(\"R:{}\".format(R.shape))\n",
    "\n",
    "print(\"THETA:{}\".format(THETA.shape))\n",
    "\n",
    "print(\"meshgrid radii:{}\".format(radii.shape))\n",
    "\n",
    "print(\"mehgrid thetas:{}\".format(thetas.shape))"
   ]
  },
  {
   "cell_type": "code",
   "execution_count": null,
   "metadata": {},
   "outputs": [],
   "source": []
  }
 ]
}