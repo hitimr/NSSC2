{
 "metadata": {
  "language_info": {
   "codemirror_mode": {
    "name": "ipython",
    "version": 3
   },
   "file_extension": ".py",
   "mimetype": "text/x-python",
   "name": "python",
   "nbconvert_exporter": "python",
   "pygments_lexer": "ipython3",
   "version": "3.8.5"
  },
  "orig_nbformat": 2,
  "kernelspec": {
   "name": "python385jvsc74a57bd031f2aee4e71d21fbe5cf8b01ff0e069b9275f58929596ceb00d14d90e3e16cd6",
   "display_name": "Python 3.8.5 64-bit"
  },
  "metadata": {
   "interpreter": {
    "hash": "31f2aee4e71d21fbe5cf8b01ff0e069b9275f58929596ceb00d14d90e3e16cd6"
   }
  }
 },
 "nbformat": 4,
 "nbformat_minor": 2,
 "cells": [
  {
   "cell_type": "code",
   "execution_count": 64,
   "metadata": {},
   "outputs": [],
   "source": [
    "import math\n",
    "import numpy"
   ]
  },
  {
   "cell_type": "code",
   "execution_count": 92,
   "metadata": {},
   "outputs": [
    {
     "output_type": "stream",
     "name": "stdout",
     "text": [
      "[[5 6]\n [8 9]]\n"
     ]
    },
    {
     "output_type": "error",
     "ename": "TypeError",
     "evalue": "unsupported operand type(s) for -: 'int' and 'list'",
     "traceback": [
      "\u001b[0;31m---------------------------------------------------------------------------\u001b[0m",
      "\u001b[0;31mTypeError\u001b[0m                                 Traceback (most recent call last)",
      "\u001b[0;32m<ipython-input-92-873e75bb3901>\u001b[0m in \u001b[0;36m<module>\u001b[0;34m\u001b[0m\n\u001b[1;32m     55\u001b[0m     \u001b[0;32mreturn\u001b[0m\u001b[0;34m\u001b[0m\u001b[0;34m\u001b[0m\u001b[0m\n\u001b[1;32m     56\u001b[0m \u001b[0;34m\u001b[0m\u001b[0m\n\u001b[0;32m---> 57\u001b[0;31m \u001b[0mmagicsolver\u001b[0m\u001b[0;34m(\u001b[0m\u001b[0mA\u001b[0m\u001b[0;34m,\u001b[0m\u001b[0mT\u001b[0m\u001b[0;34m,\u001b[0m\u001b[0mP\u001b[0m\u001b[0;34m)\u001b[0m\u001b[0;34m\u001b[0m\u001b[0;34m\u001b[0m\u001b[0m\n\u001b[0m",
      "\u001b[0;32m<ipython-input-92-873e75bb3901>\u001b[0m in \u001b[0;36mmagicsolver\u001b[0;34m(A, T, P)\u001b[0m\n\u001b[1;32m     43\u001b[0m \u001b[0;34m\u001b[0m\u001b[0m\n\u001b[1;32m     44\u001b[0m     \u001b[0;32mfor\u001b[0m \u001b[0mi\u001b[0m \u001b[0;32min\u001b[0m \u001b[0mrange\u001b[0m\u001b[0;34m(\u001b[0m\u001b[0mlen\u001b[0m\u001b[0;34m(\u001b[0m\u001b[0mP_known\u001b[0m\u001b[0;34m)\u001b[0m\u001b[0;34m)\u001b[0m\u001b[0;34m:\u001b[0m\u001b[0;34m\u001b[0m\u001b[0;34m\u001b[0m\u001b[0m\n\u001b[0;32m---> 45\u001b[0;31m         \u001b[0mP_known\u001b[0m\u001b[0;34m[\u001b[0m\u001b[0mi\u001b[0m\u001b[0;34m]\u001b[0m \u001b[0;34m=\u001b[0m \u001b[0mP_known\u001b[0m\u001b[0;34m[\u001b[0m\u001b[0mi\u001b[0m\u001b[0;34m]\u001b[0m \u001b[0;34m-\u001b[0m \u001b[0mA\u001b[0m\u001b[0;34m[\u001b[0m\u001b[0mi\u001b[0m\u001b[0;34m+\u001b[0m\u001b[0;36m1\u001b[0m\u001b[0;34m,\u001b[0m\u001b[0;36m0\u001b[0m\u001b[0;34m]\u001b[0m\u001b[0;34m*\u001b[0m\u001b[0mT_known\u001b[0m\u001b[0;34m\u001b[0m\u001b[0;34m\u001b[0m\u001b[0m\n\u001b[0m\u001b[1;32m     46\u001b[0m         \u001b[0;31m#P_known[i] = P_known[i] - A[i+1,0]*T_known\u001b[0m\u001b[0;34m\u001b[0m\u001b[0;34m\u001b[0m\u001b[0;34m\u001b[0m\u001b[0m\n\u001b[1;32m     47\u001b[0m \u001b[0;34m\u001b[0m\u001b[0m\n",
      "\u001b[0;31mTypeError\u001b[0m: unsupported operand type(s) for -: 'int' and 'list'"
     ]
    }
   ],
   "source": [
    "#we assume an equation with this form\n",
    "# A*T = P\n",
    "#where A is a matrix, T and P are vectors\n",
    "#and we know some values from T and some from P\n",
    "#s.t. we have enough known variables for a unique solution\n",
    "\n",
    "A = [[1,2,3],[4,5,6],[7,8,9]]\n",
    "A = numpy.array(A)\n",
    "T = [100,None,None]\n",
    "P = [None,1000,1000]\n",
    "\n",
    "def magicsolver(A,T,P):\n",
    "    n = len(A)\n",
    "    T_known = []\n",
    "    T_known_i = []\n",
    "    T_unknown = []\n",
    "    T_unknown_i = []\n",
    "    P_known = []\n",
    "    P_known_i = []\n",
    "    P_unknown = []\n",
    "    P_unknown_i = []\n",
    "\n",
    "    #find unkown values\n",
    "    for i in range(n):\n",
    "        if T[i] == None:\n",
    "            T_unknown.append(T[i])\n",
    "            T_unknown_i.append(i)\n",
    "        else:\n",
    "            T_known.append(T[i])\n",
    "            T_known_i.append(i)\n",
    "    for i in range(n):\n",
    "        if P[i] == None:\n",
    "            P_unknown.append(P[i])\n",
    "            P_unknown_i.append(i)\n",
    "        else:\n",
    "            P_known.append(P[i])\n",
    "            P_known_i.append(i)\n",
    "\n",
    "    #compute T_unknown\n",
    "\n",
    "    A_sub = A[P_known_i[0]:P_known_i[-1]+1, P_known_i[0]:P_known_i[-1]+1]\n",
    "    print(A_sub)\n",
    "\n",
    "    for i in range(len(P_known)):\n",
    "        P_known[i] = P_known[i] - A[i+1,0]*T_known\n",
    "        #P_known[i] = P_known[i] - A[i+1,0]*T_known\n",
    "\n",
    "    print(P_known)        \n",
    "\n",
    "    # T_unknown = numpy.linalg.solve(A_sub, P_known)\n",
    "    # T[1:3] = T_unknown\n",
    "\n",
    "\n",
    "\n",
    "    return\n",
    "\n",
    "magicsolver(A,T,P)"
   ]
  },
  {
   "cell_type": "code",
   "execution_count": 67,
   "metadata": {},
   "outputs": [
    {
     "output_type": "stream",
     "name": "stdout",
     "text": [
      "1000.0\n[100, -1200.0, 1100.0] [1000.0, 1000, 1000]\n"
     ]
    }
   ],
   "source": [
    "A = [[1,2,3],[4,5,6],[7,8,9]]\n",
    "A = numpy.array(A)\n",
    "T = [100,None,None]\n",
    "P = [None,1000,1000]\n",
    "T_known = T[0]\n",
    "P_known = P[1:3]\n",
    "\n",
    "#solve for T_unknown\n",
    "A_sub = A[1:3, 1:3]\n",
    "for i in range(len(P_known)):\n",
    "    P_known[i] = P_known[i] - A[i+1,0]*T_known\n",
    "T_unknown = numpy.linalg.solve(A_sub, P_known)\n",
    "T[1:3] = T_unknown\n",
    "\n",
    "#solve for P_unknown\n",
    "P_unknown = numpy.dot(A[0],T)\n",
    "print(P_unknown)\n",
    "P[0] = P_unknown\n",
    "\n",
    "print(T,P)"
   ]
  }
 ]
}