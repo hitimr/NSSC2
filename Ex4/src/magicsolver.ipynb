{
 "metadata": {
  "language_info": {
   "codemirror_mode": {
    "name": "ipython",
    "version": 3
   },
   "file_extension": ".py",
   "mimetype": "text/x-python",
   "name": "python",
   "nbconvert_exporter": "python",
   "pygments_lexer": "ipython3",
   "version": "3.8.5"
  },
  "orig_nbformat": 2,
  "kernelspec": {
   "name": "python385jvsc74a57bd031f2aee4e71d21fbe5cf8b01ff0e069b9275f58929596ceb00d14d90e3e16cd6",
   "display_name": "Python 3.8.5 64-bit"
  },
  "metadata": {
   "interpreter": {
    "hash": "31f2aee4e71d21fbe5cf8b01ff0e069b9275f58929596ceb00d14d90e3e16cd6"
   }
  }
 },
 "nbformat": 4,
 "nbformat_minor": 2,
 "cells": [
  {
   "cell_type": "code",
   "execution_count": 2,
   "metadata": {},
   "outputs": [],
   "source": [
    "import math\n",
    "import numpy"
   ]
  },
  {
   "cell_type": "code",
   "execution_count": 3,
   "metadata": {},
   "outputs": [],
   "source": [
    "#for the equation A*T = P (A matrix, T, P vectors)\n",
    "#we know some values from T and some from P, s.t. there exists a unique sol\n",
    "def magicsolver(A,T,P):\n",
    "    n = len(A)\n",
    "    T_known = []\n",
    "    T_known_i = []\n",
    "    T_unknown = []\n",
    "    T_unknown_i = []\n",
    "    P_known = []\n",
    "    P_known_i = []\n",
    "    P_unknown = []\n",
    "    P_unknown_i = []\n",
    "    \n",
    "    #find unkown values\n",
    "    for i in range(n):\n",
    "        if T[i] == None:\n",
    "            T_unknown.append(T[i])\n",
    "            T_unknown_i.append(i)\n",
    "        else:\n",
    "            T_known.append(T[i])\n",
    "            T_known_i.append(i)\n",
    "    for i in range(n):\n",
    "        if P[i] == None:\n",
    "            P_unknown.append(P[i])\n",
    "            P_unknown_i.append(i)\n",
    "        else:\n",
    "            P_known.append(P[i])\n",
    "            P_known_i.append(i)\n",
    "    \n",
    "    #compute T_unknown\n",
    "    A_sub = A[P_known_i[0]:P_known_i[-1]+1, P_known_i[0]:P_known_i[-1]+1]\n",
    "\n",
    "    for Pi in range(len(P_known)):\n",
    "        for Ti in range(len(T_known)):\n",
    "            P_known[Pi] = P_known[Pi] - A[P_known_i[Pi],T_known_i[Ti]] * T_known[Ti]\n",
    "    \n",
    "    T_unknown = numpy.linalg.solve(A_sub, P_known)\n",
    "\n",
    "    j = 0\n",
    "    for i in range(n):\n",
    "        if T[i] == None:\n",
    "            T[i] = T_unknown[j]\n",
    "            j+=1\n",
    "\n",
    "    #compute P_unknown\n",
    "    for i in range(len(P_unknown)):\n",
    "        P_unknown[i] = numpy.dot(A[P_unknown_i[i]],T)\n",
    "\n",
    "    j = 0\n",
    "    for i in range(n):\n",
    "        if P[i] == None:\n",
    "            P[i] = P_unknown[j]\n",
    "            j+=1\n",
    "\n",
    "    return [T,P]"
   ]
  },
  {
   "cell_type": "code",
   "execution_count": 4,
   "metadata": {},
   "outputs": [
    {
     "output_type": "execute_result",
     "data": {
      "text/plain": [
       "[[100, -1049.9999999999993, 799.9999999999995, 400],\n",
       " [4000.000000000002, 2000, 3000, 5000.000000000002]]"
      ]
     },
     "metadata": {},
     "execution_count": 4
    }
   ],
   "source": [
    "#A = [[1,2,3],[4,5,6],[7,8,9]]\n",
    "A = [[9,10,11,12],[1,2,3,4],[5,6,7,8],[13,14,15,16]]\n",
    "A = numpy.array(A)\n",
    "T = [100,None,None,400]\n",
    "P = [None,2000,3000,None]\n",
    "\n",
    "magicsolver(A,T,P)"
   ]
  }
 ]
}