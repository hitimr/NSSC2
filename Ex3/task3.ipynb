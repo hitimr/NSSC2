{
 "metadata": {
  "language_info": {
   "codemirror_mode": {
    "name": "ipython",
    "version": 3
   },
   "file_extension": ".py",
   "mimetype": "text/x-python",
   "name": "python",
   "nbconvert_exporter": "python",
   "pygments_lexer": "ipython3",
   "version": "3.8.5"
  },
  "orig_nbformat": 2,
  "kernelspec": {
   "name": "python3",
   "display_name": "Python 3",
   "language": "python"
  }
 },
 "nbformat": 4,
 "nbformat_minor": 2,
 "cells": [
  {
   "source": [
    "# task3\n",
    "C(x=0) = 1\n",
    "\n",
    "dC/dt(x=-1) = 0\n",
    "\n",
    "compute C with implicit scheme of 1st order (something like implicit euler) and apply BCs\n",
    "\n",
    "task: analyse stability + compare with task 1\n",
    "\n"
   ],
   "cell_type": "markdown",
   "metadata": {}
  },
  {
   "cell_type": "code",
   "execution_count": 41,
   "metadata": {},
   "outputs": [],
   "source": [
    "import numpy\n",
    "import numpy as np\n",
    "import matplotlib.pyplot as plt\n",
    "import pandas as pd\n",
    "from task1_hickel import analytical_sol"
   ]
  },
  {
   "cell_type": "code",
   "execution_count": 42,
   "metadata": {},
   "outputs": [],
   "source": [
    "#thomas algorithm\n",
    "def TDMAsolve(A, b):\n",
    "    Ac = A.copy()\n",
    "    bc = b.copy()\n",
    "    n = A.shape[0]\n",
    "    x = numpy.zeros(n)\n",
    "\n",
    "    #eliminate lower diagonal\n",
    "    for k in range(1, n):\n",
    "        m = Ac[k,k-1]/Ac[k-1,k-1]\n",
    "        Ac[k,k] = Ac[k,k] - m*Ac[k-1,k]\n",
    "        bc[k] = bc[k] - m*bc[k-1]\n",
    "        #Ac[k,k-1] = 0 #not necessary\n",
    "\n",
    "    #reverse substitution\n",
    "    x[n-1] = bc[n-1]/Ac[n-1,n-1]\n",
    "    k=n-2\n",
    "    for i in range(0, n-1):\n",
    "        x[k] = (bc[k]-Ac[k,k+1]*x[k+1])/Ac[k,k]\n",
    "        k=k-1\n",
    "\n",
    "    return x\n",
    "\n",
    "\n",
    "#fill discretisation matrix\n",
    "def fill_matrix(matrix):\n",
    "    for i in range(len(matrix[0])):\n",
    "        matrix[i,i] = 1+2*S*D\n",
    "    for i in range(len(matrix[0])-1):\n",
    "        matrix[i+1,i] = -S*D\n",
    "    for i in range(len(matrix[0])-1):\n",
    "        matrix[i,i+1] = -S*D\n",
    "\n",
    "\n",
    "#apply BC to concentration vector\n",
    "def apply_BC(C_vector):\n",
    "    C_vector[0] = dirichlet\n",
    "    C_vector[-1] = C_vector[-2]\n",
    "\n",
    "    #C_vector[0] = C_vector[0] + S*D*dirichlet\n",
    "    #C_vector[-1] = C_vector[-1] + S*D*(2*dx*neuman + C_0[-2])\n",
    "\n",
    "    #C_vector[-1] = C_vector[-1] + S*D*(2*dx*neuman + C_vector[-2])\n",
    "    #C_vector[-1] = C_vector[-2] #+ S*D*C_vector[-2]\n",
    "    \n",
    "    return C_vector"
   ]
  },
  {
   "cell_type": "code",
   "execution_count": 58,
   "metadata": {
    "tags": []
   },
   "outputs": [],
   "source": [
    "#settings of time and space\n",
    "xmax = 20\n",
    "tmax = 5000\n",
    "dx = 1/xmax\n",
    "dt = 40\n",
    "D = 10**(-6)\n",
    "dirichlet = 1 #at x=0\n",
    "neuman = 0 #at x=h\n",
    "\n",
    "#initialization\n",
    "space = np.linspace(0,xmax,xmax)\n",
    "time = np.linspace(0,tmax,tmax)\n",
    "S = dt/(dx*dx)\n",
    "C = [] #concentration values\n",
    "A = numpy.zeros([xmax,xmax]) #discretisation matrix\n",
    "C_0 = numpy.zeros([xmax]) #concentration vector at given time step\n",
    "\n",
    "#solve\n",
    "fill_matrix(A)\n",
    "#C_0 = apply_BC(C_0)\n",
    "C_old = C_0\n",
    "for i in range(tmax):\n",
    "    #C_old = apply_BC(C_old)\n",
    "    C_new = TDMAsolve(A,C_old)\n",
    "    C_new = apply_BC(C_new)\n",
    "\n",
    "    C.append(C_new)\n",
    "    C_old = C_new\n",
    "\n",
    "C = np.array(C)\n",
    "df = pd.DataFrame(C)\n",
    "df.to_csv(\"task3_numeric.csv\",index=False)"
   ]
  },
  {
   "cell_type": "code",
   "execution_count": 60,
   "metadata": {},
   "outputs": [
    {
     "output_type": "error",
     "ename": "AttributeError",
     "evalue": "'numpy.ndarray' object has no attribute 'append'",
     "traceback": [
      "\u001b[0;31m---------------------------------------------------------------------------\u001b[0m",
      "\u001b[0;31mAttributeError\u001b[0m                            Traceback (most recent call last)",
      "\u001b[0;32m<ipython-input-60-03075a9e5d19>\u001b[0m in \u001b[0;36m<module>\u001b[0;34m\u001b[0m\n\u001b[1;32m      5\u001b[0m \u001b[0mC_analytic\u001b[0m \u001b[0;34m=\u001b[0m \u001b[0mnumpy\u001b[0m\u001b[0;34m.\u001b[0m\u001b[0marray\u001b[0m\u001b[0;34m(\u001b[0m\u001b[0mC_analytic\u001b[0m\u001b[0;34m)\u001b[0m\u001b[0;34m\u001b[0m\u001b[0;34m\u001b[0m\u001b[0m\n\u001b[1;32m      6\u001b[0m \u001b[0;32mfor\u001b[0m \u001b[0mi\u001b[0m \u001b[0;32min\u001b[0m \u001b[0mrange\u001b[0m\u001b[0;34m(\u001b[0m\u001b[0mtmax\u001b[0m\u001b[0;34m)\u001b[0m\u001b[0;34m:\u001b[0m\u001b[0;34m\u001b[0m\u001b[0;34m\u001b[0m\u001b[0m\n\u001b[0;32m----> 7\u001b[0;31m     \u001b[0mC_analytic\u001b[0m\u001b[0;34m.\u001b[0m\u001b[0mappend\u001b[0m\u001b[0;34m(\u001b[0m\u001b[0manalytical_sol\u001b[0m\u001b[0;34m(\u001b[0m\u001b[0mi\u001b[0m\u001b[0;34m,\u001b[0m \u001b[0mpoints\u001b[0m\u001b[0;34m=\u001b[0m\u001b[0mxmax\u001b[0m\u001b[0;34m,\u001b[0m \u001b[0mn_max\u001b[0m\u001b[0;34m=\u001b[0m\u001b[0;36m1000\u001b[0m\u001b[0;34m)\u001b[0m\u001b[0;34m)\u001b[0m\u001b[0;34m\u001b[0m\u001b[0;34m\u001b[0m\u001b[0m\n\u001b[0m\u001b[1;32m      8\u001b[0m \u001b[0mdfa\u001b[0m \u001b[0;34m=\u001b[0m \u001b[0mpd\u001b[0m\u001b[0;34m.\u001b[0m\u001b[0mDataFrame\u001b[0m\u001b[0;34m(\u001b[0m\u001b[0mC_analytic\u001b[0m\u001b[0;34m)\u001b[0m\u001b[0;34m\u001b[0m\u001b[0;34m\u001b[0m\u001b[0m\n\u001b[1;32m      9\u001b[0m \u001b[0mdf\u001b[0m\u001b[0;34m.\u001b[0m\u001b[0mto_csv\u001b[0m\u001b[0;34m(\u001b[0m\u001b[0;34m\"task3_analytic\"\u001b[0m\u001b[0;34m,\u001b[0m\u001b[0mindex\u001b[0m\u001b[0;34m=\u001b[0m\u001b[0;32mFalse\u001b[0m\u001b[0;34m)\u001b[0m\u001b[0;34m\u001b[0m\u001b[0;34m\u001b[0m\u001b[0m\n",
      "\u001b[0;31mAttributeError\u001b[0m: 'numpy.ndarray' object has no attribute 'append'"
     ]
    }
   ],
   "source": [
    "plottimesteps = [0,round((tmax-1)*0.01),round((tmax-1)*0.1),round((tmax-1)*0.5),tmax-1]\n",
    "plottimesteps = [0,round((tmax-1)*0.5),tmax-1]\n",
    "\n",
    "C_analytic = []\n",
    "C_analytic = numpy.array(C_analytic)\n",
    "for i in range(tmax):\n",
    "    C_analytic.append(analytical_sol(i, points=xmax, n_max=1000))\n",
    "dfa = pd.DataFrame(C_analytic)\n",
    "df.to_csv(\"task3_analytic\",index=False)\n",
    "\n",
    "fig = plt.figure(figsize = (7,5))\n",
    "for i in plottimesteps:\n",
    "    #plt.plot(space,C[i,:],label=\"C\")\n",
    "    plt.plot(space,C[i,:],label=\"C after i=\"+str(i))\n",
    "plt.plot(space,analytical_sol(tmax, points=xmax, n_max=1000),label=\"analytical sol\")\n",
    "\n",
    "plt.legend()\n",
    "plt.xlabel(\"x\")\n",
    "plt.ylabel(\"C\")\n",
    "plt.grid()\n",
    "plt.show()\n",
    "#plt.savefig('plots/asdfasdfasdfasdf.pdf')"
   ]
  },
  {
   "cell_type": "code",
   "execution_count": null,
   "metadata": {},
   "outputs": [],
   "source": []
  },
  {
   "cell_type": "code",
   "execution_count": null,
   "metadata": {},
   "outputs": [],
   "source": []
  },
  {
   "cell_type": "code",
   "execution_count": 45,
   "metadata": {},
   "outputs": [],
   "source": [
    "#test TDMAsolve\n",
    "A = numpy.array([[1,2,0],\n",
    "                 [4,5,6],\n",
    "                 [0,8,9]],dtype=numpy.float32)\n",
    "b = numpy.array([[1],\n",
    "                 [2],\n",
    "                 [8]],dtype=numpy.float32)\n",
    "\n",
    "M = numpy.array([[1,2,0,0],\n",
    "                 [4,5,6,0],\n",
    "                 [0,8,9,0],\n",
    "                 [0,0,4,6]],dtype=numpy.float32)\n",
    "v = numpy.array([[1],\n",
    "                 [2],\n",
    "                 [8],\n",
    "                 [8]],dtype=numpy.float32)\n",
    "\n",
    "#print(numpy.linalg.solve(M,v))\n",
    "#print(TDMAsolve(M,v))"
   ]
  }
 ]
}