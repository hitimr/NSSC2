{
 "metadata": {
  "language_info": {
   "codemirror_mode": {
    "name": "ipython",
    "version": 3
   },
   "file_extension": ".py",
   "mimetype": "text/x-python",
   "name": "python",
   "nbconvert_exporter": "python",
   "pygments_lexer": "ipython3",
   "version": "3.8.6"
  },
  "orig_nbformat": 2,
  "kernelspec": {
   "name": "python386jvsc74a57bd031f2aee4e71d21fbe5cf8b01ff0e069b9275f58929596ceb00d14d90e3e16cd6",
   "display_name": "Python 3.8.6 64-bit"
  },
  "metadata": {
   "interpreter": {
    "hash": "31f2aee4e71d21fbe5cf8b01ff0e069b9275f58929596ceb00d14d90e3e16cd6"
   }
  }
 },
 "nbformat": 4,
 "nbformat_minor": 2,
 "cells": [
  {
   "cell_type": "code",
   "execution_count": 5,
   "metadata": {},
   "outputs": [],
   "source": [
    "#include parent folder\n",
    "import os, sys, inspect\n",
    "\n",
    "currentdir = os.path.dirname(\n",
    "    os.path.abspath(inspect.getfile(inspect.currentframe())))\n",
    "parentdir = os.path.dirname(currentdir)\n",
    "sys.path.insert(0, parentdir)\n",
    "\n",
    "import time\n",
    "import timeit\n",
    "import numpy as np\n",
    "import pytest\n",
    "import jax\n",
    "import functools\n",
    "\n",
    "from src.domain import Domain\n",
    "from src.misc import *"
   ]
  },
  {
   "cell_type": "code",
   "execution_count": 6,
   "metadata": {},
   "outputs": [],
   "source": [
    "def VLJ1(v, w):   \n",
    "    r = jnp.linalg.norm(v-w) # euclidian distance between points\n",
    "    #if(r == 0): return 0\n",
    "    return 4 * (4*pow(1 / r, 12) - 2*pow(1 / r, 6)) # TODO: check if this is actually correct\n",
    "\n",
    "VLJ1_jit = jax.jit(VLJ1)"
   ]
  },
  {
   "cell_type": "code",
   "execution_count": 7,
   "metadata": {},
   "outputs": [],
   "source": [
    "def Epot_loops_nojit(pos): \n",
    "    # primitive Loop   \n",
    "    v = to3D(pos)\n",
    "    E = 0\n",
    "    for i in range(len(v)):\n",
    "        for j in range(i + 1, len(v)):\n",
    "            E += VLJ1(v[i], v[j])    # using jit actually shaved off 20% form runtime  \n",
    "    return E  \n",
    "\n",
    "def Epot_loops_jit(pos): \n",
    "    # primitive Loop   \n",
    "    v = to3D(pos)\n",
    "    E = 0\n",
    "    for i in range(len(v)):\n",
    "        for j in range(i + 1, len(v)):\n",
    "            E += VLJ1_jit(v[i], v[j])    # using jit actually shaved off 20% form runtime  \n",
    "    return E    "
   ]
  },
  {
   "cell_type": "code",
   "execution_count": 21,
   "metadata": {},
   "outputs": [
    {
     "output_type": "stream",
     "name": "stdout",
     "text": [
      "5.3482E-02s: primitive loop, no jit \n",
      "3.2912E-02s: primitive loop, jit \n"
     ]
    }
   ],
   "source": [
    "def benchMark(domain, Epot_func):\n",
    "    n = 10\n",
    "    t = timeit.Timer(functools.partial(Epot_func, domain.pos))\n",
    "    return t.timeit(n) / n  # Rrepeat n times and take average\n",
    "\n",
    "domain = Domain()\n",
    "domain.fill(5,10,1)\n",
    "print(f\"{benchMark(domain, Epot_loops_nojit):.4E}s: primitive loop, no jit \")\n",
    "print(f\"{benchMark(domain, Epot_loops_jit):.4E}s: primitive loop, jit \")"
   ]
  },
  {
   "cell_type": "code",
   "execution_count": null,
   "metadata": {},
   "outputs": [],
   "source": []
  },
  {
   "cell_type": "code",
   "execution_count": null,
   "metadata": {},
   "outputs": [],
   "source": []
  }
 ]
}