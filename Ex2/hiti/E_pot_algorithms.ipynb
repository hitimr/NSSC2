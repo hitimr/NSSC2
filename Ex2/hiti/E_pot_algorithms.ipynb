{
 "metadata": {
  "language_info": {
   "codemirror_mode": {
    "name": "ipython",
    "version": 3
   },
   "file_extension": ".py",
   "mimetype": "text/x-python",
   "name": "python",
   "nbconvert_exporter": "python",
   "pygments_lexer": "ipython3",
   "version": "3.8.5"
  },
  "orig_nbformat": 2,
  "kernelspec": {
   "name": "python385jvsc74a57bd031f2aee4e71d21fbe5cf8b01ff0e069b9275f58929596ceb00d14d90e3e16cd6",
   "display_name": "Python 3.8.5 64-bit"
  },
  "metadata": {
   "interpreter": {
    "hash": "31f2aee4e71d21fbe5cf8b01ff0e069b9275f58929596ceb00d14d90e3e16cd6"
   }
  }
 },
 "nbformat": 4,
 "nbformat_minor": 2,
 "cells": [
  {
   "cell_type": "code",
   "execution_count": 25,
   "metadata": {},
   "outputs": [],
   "source": [
    "#include parent folder\n",
    "import os, sys, inspect\n",
    "\n",
    "currentdir = os.path.dirname(\n",
    "    os.path.abspath(inspect.getfile(inspect.currentframe())))\n",
    "parentdir = os.path.dirname(currentdir)\n",
    "sys.path.insert(0, parentdir)\n",
    "\n",
    "import time\n",
    "import timeit\n",
    "import numpy as np\n",
    "import pytest\n",
    "import jax\n",
    "import jax.numpy as jnp\n",
    "import functools\n",
    "import scipy\n",
    "import pandas as pd\n",
    "\n",
    "from src.domain import Domain\n",
    "from src.misc import *"
   ]
  },
  {
   "cell_type": "code",
   "execution_count": 26,
   "metadata": {},
   "outputs": [],
   "source": [
    "def VLJ1(v, w):   \n",
    "    r = jnp.linalg.norm(v-w) # euclidian distance between points\n",
    "    return 4 * (4*pow(1 / r, 12) - 2*pow(1 / r, 6))\n",
    "\n",
    "def VLJ2(v, w):\n",
    "    r = jnp.linalg.norm(v-w) # euclidian distance between points\n",
    "    r6 = pow(1 / r, 6)    # recycle exponents\n",
    "    return (16*r6*r6 - 8*r6)\n",
    "\n",
    "def VLJ3(r):\n",
    "    return 4 * (4*pow(1 / r, 12) - 2*pow(1 / r, 6)) # TODO: numpy pow\n",
    "\n",
    "VLJ1_jit = jax.jit(VLJ1)\n",
    "VLJ2_jit = jax.jit(VLJ2)\n",
    "VLJ3_jit = jax.jit(VLJ3)\n",
    "\n",
    "def Epot_loops_nojit(pos): \n",
    "    # primitive Loop   \n",
    "    v = to3D(pos)\n",
    "    E = 0\n",
    "    for i in range(len(v)):\n",
    "        for j in range(i + 1, len(v)):\n",
    "            E += VLJ1(v[i], v[j])    # using jit actually shaved off 20% form runtime  \n",
    "    return E  \n",
    "\n",
    "def Epot_loops_VLJ1_jit(v): \n",
    "    # primitive Loop   \n",
    "    E = 0\n",
    "    for i in range(len(v)):\n",
    "        for j in range(i + 1, len(v)):\n",
    "            E += VLJ1_jit(v[i], v[j])  \n",
    "    return E \n",
    "\n",
    "\n",
    "def Epot_loops_VLJ2_jit(v): \n",
    "    # primitive Loop   \n",
    "    E = 0\n",
    "    for i in range(len(v)):\n",
    "        for j in range(i + 1, len(v)):\n",
    "            E += VLJ2_jit(v[i], v[j])   \n",
    "    return E   \n",
    "\n",
    "def Epot_broadcasted(x):\n",
    "    n = len(x)\n",
    "    broadcasted = x[:, np.newaxis, :] - x   # calculate the distance between all particles\n",
    "    broadcasted = broadcasted.reshape(n*n,3)   # reshape such that we have a list of distance vectors\n",
    "    dist = np.linalg.norm(broadcasted, axis=1)  # calculate the euclidian norm of all distances\n",
    "    dist = dist[dist != 0]    # remove 0s\n",
    "    E = 0\n",
    "    for d in dist:\n",
    "        E += VLJ3(d)\n",
    "\n",
    "    return E /2\n",
    "\n",
    "def Epot_broadcasted(x):\n",
    "    n = len(x)\n",
    "    broadcasted = x[:, np.newaxis, :] - x   # calculate the distance between all particles\n",
    "    broadcasted = broadcasted.reshape(n*n,3)   # reshape such that we have a list of distance vectors\n",
    "    dist = np.linalg.norm(broadcasted, axis=1)  # calculate the euclidian norm of all distances\n",
    "    dist = dist[dist != 0]    # remove 0s\n",
    "    E = 0\n",
    "    for d in dist:\n",
    "        E += VLJ3(d)\n",
    "\n",
    "    return E /2\n",
    "\n",
    "\n",
    "def Epot_broadcasted_jnp(x):\n",
    "    n = len(x)\n",
    "    broadcasted = x[:, jnp.newaxis, :] - x   # calculate the distance between all particles\n",
    "    broadcasted = broadcasted.reshape(n*n,3)   # reshape such that we have a list of distance vectors\n",
    "    dist = jnp.linalg.norm(broadcasted, axis=1)  # calculate the euclidian norm of all distances\n",
    "    dist = dist[dist != 0]    # remove 0s\n",
    "    E = 0\n",
    "    for d in dist:\n",
    "        E += VLJ3(d)\n",
    "\n",
    "    return E /2\n",
    "\n",
    "def Epot_vectorized(x):\n",
    "    n = len(x)\n",
    "    broadcasted = x[:, jnp.newaxis, :] - x   # calculate the distance between all particles\n",
    "    broadcasted = broadcasted.reshape(n*n,3)   # reshape such that we have a list of distance vectors\n",
    "    r = jnp.linalg.norm(broadcasted, axis=1)  # calculate the euclidian norm of all distances\n",
    "    r = r[r != 0]    # remove 0s\n",
    "    return 4 * (4*np.power(r, -12) - 2*np.power(r, -6)).sum() / 2 # TODO: numpy pow\n",
    "\n",
    "\n",
    "def Epot_vectorized2(x):\n",
    "    n = len(x)\n",
    "    broadcasted = x[:, jnp.newaxis, :] - x   # calculate the distance between all particles while utilizing jnp.broadcast\n",
    "    broadcasted = broadcasted.reshape(n*n,3)\n",
    "    r = jnp.linalg.norm(broadcasted, axis=1)  # calculate the euclidian norm of all distances\n",
    "    r6 =  jnp.nan_to_num(jnp.power(r, -6), posinf=0.0)\n",
    "    return 4*(2*r6*r6 - r6).sum()\n",
    "\n",
    "# Current Winner\n",
    "def Epot_vectorized2_dot(x):\n",
    "    n = len(x)\n",
    "    broadcasted = x[:, jnp.newaxis, :] - x   # calculate the distance between all particles while utilizing jnp.broadcast\n",
    "    broadcasted = broadcasted.reshape(n*n,3)\n",
    "    r = jnp.linalg.norm(broadcasted, axis=1)  # calculate the euclidian norm of all distances\n",
    "    r6 =  jnp.nan_to_num(jnp.power(r, -6), posinf=0.0)\n",
    "    return 4*(2*jnp.dot(r6,r6) - r6.sum())\n",
    "\n",
    "\n",
    "def Epot_vectorized3(x):\n",
    "    n = len(x)\n",
    "    broadcasted = x[:, jnp.newaxis, :] - x   # calculate the distance between all particles while utilizing jnp.broadcast\n",
    "    broadcasted = broadcasted.reshape(n*n,3)\n",
    "    broadcasted = broadcasted[(n*n)//2:]\n",
    "    r = jnp.linalg.norm(broadcasted, axis=1)  # calculate the euclidian norm of all distances\n",
    "    r6 =  jnp.nan_to_num(jnp.power(r, -6), posinf=0.0)\n",
    "    return 8*(2*r6*r6 - r6).sum()\n",
    "\n",
    "def Epot_vectorized4(x):\n",
    "    n2 = len(x)*len(x)\n",
    "    broadcasted = jnp.array(x[:, jnp.newaxis, :] - x)   # calculate the distance between all particles while utilizing jnp.broadcast\n",
    "    broadcasted = broadcasted.reshape(n2,3) # to Nx3\n",
    "    broadcasted = broadcasted[(n2)//2:]\n",
    "    r = jnp.linalg.norm(broadcasted, axis=1)  # calculate the euclidian norm of all distances\n",
    "    r6 =  jnp.nan_to_num(jnp.power(r, -6), posinf=0.0)\n",
    "    return 8*(2*r6*r6 - r6).sum()\n",
    "\n",
    "\n",
    "def Epot_vectorized_einsum(x):\n",
    "    n = len(x)\n",
    "    broadcasted = x[:, jnp.newaxis, :] - x   # calculate the distance between all particles while utilizing jnp.broadcast\n",
    "    v = broadcasted.reshape(n*n,3)\n",
    "    r = jnp.einsum(\"ij,ij->i\",v,v)  # calculate squared norm\n",
    "    r6 =  jnp.nan_to_num(jnp.power(r, -3), posinf=0.0)  # = (1/r²)^6\n",
    "    return 4*(2*r6*r6 - r6).sum()\n",
    "\n",
    "\n",
    "def Epot_montana(positions):\n",
    "    \"\"\"Lennard-Jones potential in reduced units.\n",
    "    In this system of units, epsilon=1 and sigma=2**(-1. / 6.).\n",
    "    \"\"\"\n",
    "    if positions.ndim != 2 or positions.shape[1] != 3:\n",
    "        raise ValueError(\"positions must be an Mx3 array\")\n",
    "    # Compute all squared distances between pairs without iterating.\n",
    "    delta = positions[:, np.newaxis, :] - positions\n",
    "    r2 = (delta * delta).sum(axis=2)\n",
    "    # Take only the upper triangle (combinations of two atoms).\n",
    "    indices = np.triu_indices(r2.shape[0], k=1)\n",
    "    rm2 = 1. / r2[indices]\n",
    "    # Compute the potental energy recycling as many calculations as possible.\n",
    "    rm6 = rm2 * rm2 * rm2\n",
    "    rm12 = rm6 * rm6\n",
    "    return (rm12 - 2. * rm6).sum()\n",
    "\n",
    "def Epot_cdist(pos):\n",
    "    return np.triu(scipy.spatial.distance.cdist(pos, pos, metric=VLJ1)).sum()\n",
    "\n",
    "def Epot_cdist_jnp(pos):\n",
    "    return jnp.triu(scipy.spatial.distance.cdist(pos, pos, metric=VLJ1)).sum()\n",
    "\n",
    "Epot_loops_jit = jax.jit(Epot_loops_VLJ1_jit)\n",
    "Epot_loops2_jit = jax.jit(Epot_loops_VLJ2_jit)\n",
    "Epot_vectorized2_jit = jax.jit(Epot_vectorized2)    # Currenttly the fastest\n",
    "Epot_vectorized3_jit = jax.jit(Epot_vectorized3)\n",
    "Epot_vectorized4_jit = jax.jit(Epot_vectorized4)\n",
    "Epot_vectorized_einsum_jit = jax.jit(Epot_vectorized_einsum)\n",
    "Epot_vectorized2_dot_jit = jax.jit(Epot_vectorized2_dot)\n",
    "Epot_montana_jit = jax.jit(Epot_montana)"
   ]
  },
  {
   "cell_type": "code",
   "execution_count": 27,
   "metadata": {},
   "outputs": [],
   "source": [
    "def benchMark(domain, Epot_func, label=\"\", n=5):\n",
    "    result = Epot_func(domain.pos)  # call so that the jit compiler does not affect the benchmark\n",
    "\n",
    "    timer = timeit.Timer(functools.partial(Epot_func, domain.pos))\n",
    "    t = timer.timeit(n) / n # Rrepeat n times and take average\n",
    "    \"\"\"\n",
    "    t = 0\n",
    "    for i in range(n):\n",
    "        start = time.time()\n",
    "        Epot_func(domain.pos)\n",
    "        end = time.time()\n",
    "        t += (end - start)\n",
    "\n",
    "    t = t /n\n",
    "    \"\"\"\n",
    "\n",
    "    return pd.DataFrame(data={\n",
    "        'time': [t], \n",
    "        'label': [label], \n",
    "        \"result\" : [result],\n",
    "        \"n_particles\" : [len(domain.pos)],\n",
    "        \"size\" : [domain.length]\n",
    "        })\n",
    "\n",
    "domain = Domain()\n",
    "domain.fill(20,20,1, 1)\n",
    "data = pd.DataFrame()"
   ]
  },
  {
   "cell_type": "code",
   "execution_count": 28,
   "metadata": {},
   "outputs": [],
   "source": [
    "# slow  ones\n",
    "n = 1\n",
    "data = data.append(benchMark(domain, Epot_loops_nojit, \"primitive loop, no jit\", n))\n",
    "data = data.append(benchMark(domain, Epot_loops_VLJ1_jit, \"primitive loop, jit\", n))"
   ]
  },
  {
   "cell_type": "code",
   "execution_count": 29,
   "metadata": {},
   "outputs": [],
   "source": [
    "# fast ones but long compile time\n",
    "n = 20\n",
    "data = data.append(benchMark(domain, Epot_loops_jit, \"loop, all jitted\", n))\n",
    "data = data.append(benchMark(domain, Epot_loops2_jit, \"loops, all jitted, recycled exonents\", n))"
   ]
  },
  {
   "cell_type": "code",
   "execution_count": 30,
   "metadata": {},
   "outputs": [],
   "source": [
    "# broadcasted\n",
    "n = 10\n",
    "data = data.append(benchMark(domain, Epot_broadcasted, \"broadcasted\", n))\n",
    "data = data.append(benchMark(domain, Epot_broadcasted_jnp, \"broadcasted, jnp\", n))"
   ]
  },
  {
   "cell_type": "code",
   "execution_count": 31,
   "metadata": {},
   "outputs": [],
   "source": [
    "#vectocized\n",
    "n = 100\n",
    "data = data.append(benchMark(domain, Epot_vectorized, \"vectorized\", n))\n",
    "data = data.append(benchMark(domain, Epot_vectorized2, \"vectorized, recycled\", n))\n",
    "data = data.append(benchMark(domain, Epot_vectorized3, \"vectorized, recycled, half slice\", n))\n",
    "data = data.append(benchMark(domain, Epot_vectorized4, \"vectorized, compound, half slice\", n))\n",
    "data = data.append(benchMark(domain, Epot_vectorized_einsum, \"vectorized, einsum\", n))\n",
    "data = data.append(benchMark(domain, Epot_vectorized2_jit, \"vectorized, recycled, jit\", n))\n",
    "#data = data.append(benchMark(domain, Epot_vectorized3_jit, \"vectorized, recycled, half, slice, jit\", n))\n",
    "#data = data.append(benchMark(domain, Epot_vectorized4_jit, \"vectorized, compound, half slice, jit\", n))\n",
    "data = data.append(benchMark(domain, Epot_vectorized_einsum_jit, \"vectorized, einsum, jit\", n))\n",
    "data = data.append(benchMark(domain, Epot_vectorized2_dot_jit, \"vectorized, dot, jit\", n))\n",
    "data = data.append(benchMark(domain, Epot_montana, \"Montaña\", n))\n",
    "data = data.append(benchMark(domain, Epot_montana_jit, \"Montaña, jit\", n))"
   ]
  },
  {
   "cell_type": "code",
   "execution_count": 32,
   "metadata": {},
   "outputs": [
    {
     "output_type": "execute_result",
     "data": {
      "text/plain": [
       "       time                                 label        result  n_particles  \\\n",
       "0  0.431404                primitive loop, no jit  -0.028347962           20   \n",
       "0  0.020151                   primitive loop, jit  -0.028347962           20   \n",
       "0  0.002585                      broadcasted, jnp     -0.028348           20   \n",
       "0  0.001474      vectorized, compound, half slice   -0.03104229           20   \n",
       "0  0.001062                    vectorized, einsum  -0.028347962           20   \n",
       "0  0.001032                  vectorized, recycled  -0.028347963           20   \n",
       "0  0.001011      vectorized, recycled, half slice   -0.03104229           20   \n",
       "0  0.000912                            vectorized     -0.028348           20   \n",
       "0  0.000763                           broadcasted     -0.028348           20   \n",
       "0  0.000036                      loop, all jitted  -0.028347963           20   \n",
       "0  0.000032  loops, all jitted, recycled exonents  -0.028347963           20   \n",
       "0  0.000031                               Montaña     -0.007089           20   \n",
       "0  0.000015                  vectorized, dot, jit   -0.02834796           20   \n",
       "0  0.000015             vectorized, recycled, jit  -0.028347962           20   \n",
       "0  0.000014               vectorized, einsum, jit  -0.028347962           20   \n",
       "0  0.000013                          Montaña, jit  -0.007088884           20   \n",
       "\n",
       "   size  \n",
       "0    20  \n",
       "0    20  \n",
       "0    20  \n",
       "0    20  \n",
       "0    20  \n",
       "0    20  \n",
       "0    20  \n",
       "0    20  \n",
       "0    20  \n",
       "0    20  \n",
       "0    20  \n",
       "0    20  \n",
       "0    20  \n",
       "0    20  \n",
       "0    20  \n",
       "0    20  "
      ],
      "text/html": "<div>\n<style scoped>\n    .dataframe tbody tr th:only-of-type {\n        vertical-align: middle;\n    }\n\n    .dataframe tbody tr th {\n        vertical-align: top;\n    }\n\n    .dataframe thead th {\n        text-align: right;\n    }\n</style>\n<table border=\"1\" class=\"dataframe\">\n  <thead>\n    <tr style=\"text-align: right;\">\n      <th></th>\n      <th>time</th>\n      <th>label</th>\n      <th>result</th>\n      <th>n_particles</th>\n      <th>size</th>\n    </tr>\n  </thead>\n  <tbody>\n    <tr>\n      <th>0</th>\n      <td>0.431404</td>\n      <td>primitive loop, no jit</td>\n      <td>-0.028347962</td>\n      <td>20</td>\n      <td>20</td>\n    </tr>\n    <tr>\n      <th>0</th>\n      <td>0.020151</td>\n      <td>primitive loop, jit</td>\n      <td>-0.028347962</td>\n      <td>20</td>\n      <td>20</td>\n    </tr>\n    <tr>\n      <th>0</th>\n      <td>0.002585</td>\n      <td>broadcasted, jnp</td>\n      <td>-0.028348</td>\n      <td>20</td>\n      <td>20</td>\n    </tr>\n    <tr>\n      <th>0</th>\n      <td>0.001474</td>\n      <td>vectorized, compound, half slice</td>\n      <td>-0.03104229</td>\n      <td>20</td>\n      <td>20</td>\n    </tr>\n    <tr>\n      <th>0</th>\n      <td>0.001062</td>\n      <td>vectorized, einsum</td>\n      <td>-0.028347962</td>\n      <td>20</td>\n      <td>20</td>\n    </tr>\n    <tr>\n      <th>0</th>\n      <td>0.001032</td>\n      <td>vectorized, recycled</td>\n      <td>-0.028347963</td>\n      <td>20</td>\n      <td>20</td>\n    </tr>\n    <tr>\n      <th>0</th>\n      <td>0.001011</td>\n      <td>vectorized, recycled, half slice</td>\n      <td>-0.03104229</td>\n      <td>20</td>\n      <td>20</td>\n    </tr>\n    <tr>\n      <th>0</th>\n      <td>0.000912</td>\n      <td>vectorized</td>\n      <td>-0.028348</td>\n      <td>20</td>\n      <td>20</td>\n    </tr>\n    <tr>\n      <th>0</th>\n      <td>0.000763</td>\n      <td>broadcasted</td>\n      <td>-0.028348</td>\n      <td>20</td>\n      <td>20</td>\n    </tr>\n    <tr>\n      <th>0</th>\n      <td>0.000036</td>\n      <td>loop, all jitted</td>\n      <td>-0.028347963</td>\n      <td>20</td>\n      <td>20</td>\n    </tr>\n    <tr>\n      <th>0</th>\n      <td>0.000032</td>\n      <td>loops, all jitted, recycled exonents</td>\n      <td>-0.028347963</td>\n      <td>20</td>\n      <td>20</td>\n    </tr>\n    <tr>\n      <th>0</th>\n      <td>0.000031</td>\n      <td>Montaña</td>\n      <td>-0.007089</td>\n      <td>20</td>\n      <td>20</td>\n    </tr>\n    <tr>\n      <th>0</th>\n      <td>0.000015</td>\n      <td>vectorized, dot, jit</td>\n      <td>-0.02834796</td>\n      <td>20</td>\n      <td>20</td>\n    </tr>\n    <tr>\n      <th>0</th>\n      <td>0.000015</td>\n      <td>vectorized, recycled, jit</td>\n      <td>-0.028347962</td>\n      <td>20</td>\n      <td>20</td>\n    </tr>\n    <tr>\n      <th>0</th>\n      <td>0.000014</td>\n      <td>vectorized, einsum, jit</td>\n      <td>-0.028347962</td>\n      <td>20</td>\n      <td>20</td>\n    </tr>\n    <tr>\n      <th>0</th>\n      <td>0.000013</td>\n      <td>Montaña, jit</td>\n      <td>-0.007088884</td>\n      <td>20</td>\n      <td>20</td>\n    </tr>\n  </tbody>\n</table>\n</div>"
     },
     "metadata": {},
     "execution_count": 32
    }
   ],
   "source": [
    "# results\n",
    "data = data.drop_duplicates(subset=[\"label\"])\n",
    "data = data.sort_values(by=\"time\", ascending=False)\n",
    "data"
   ]
  },
  {
   "source": [
    "# Bigger Domain"
   ],
   "cell_type": "markdown",
   "metadata": {}
  },
  {
   "cell_type": "code",
   "execution_count": 33,
   "metadata": {},
   "outputs": [
    {
     "output_type": "error",
     "ename": "TypeError",
     "evalue": "fill() missing 1 required positional argument: 'std_dev'",
     "traceback": [
      "\u001b[0;31m---------------------------------------------------------------------------\u001b[0m",
      "\u001b[0;31mTypeError\u001b[0m                                 Traceback (most recent call last)",
      "\u001b[0;32m<ipython-input-33-cc7ab8c4234a>\u001b[0m in \u001b[0;36m<module>\u001b[0;34m\u001b[0m\n\u001b[1;32m      1\u001b[0m \u001b[0mdomain\u001b[0m \u001b[0;34m=\u001b[0m \u001b[0mDomain\u001b[0m\u001b[0;34m(\u001b[0m\u001b[0;34m)\u001b[0m\u001b[0;34m\u001b[0m\u001b[0;34m\u001b[0m\u001b[0m\n\u001b[0;32m----> 2\u001b[0;31m \u001b[0mdomain\u001b[0m\u001b[0;34m.\u001b[0m\u001b[0mfill\u001b[0m\u001b[0;34m(\u001b[0m\u001b[0;36m1500\u001b[0m\u001b[0;34m,\u001b[0m\u001b[0;36m20\u001b[0m\u001b[0;34m,\u001b[0m\u001b[0;36m1\u001b[0m\u001b[0;34m)\u001b[0m\u001b[0;34m\u001b[0m\u001b[0;34m\u001b[0m\u001b[0m\n\u001b[0m\u001b[1;32m      3\u001b[0m \u001b[0mdata\u001b[0m \u001b[0;34m=\u001b[0m \u001b[0mpd\u001b[0m\u001b[0;34m.\u001b[0m\u001b[0mDataFrame\u001b[0m\u001b[0;34m(\u001b[0m\u001b[0;34m)\u001b[0m\u001b[0;34m\u001b[0m\u001b[0;34m\u001b[0m\u001b[0m\n\u001b[1;32m      4\u001b[0m \u001b[0mn\u001b[0m \u001b[0;34m=\u001b[0m \u001b[0;36m20\u001b[0m\u001b[0;34m\u001b[0m\u001b[0;34m\u001b[0m\u001b[0m\n\u001b[1;32m      5\u001b[0m \u001b[0;34m\u001b[0m\u001b[0m\n",
      "\u001b[0;31mTypeError\u001b[0m: fill() missing 1 required positional argument: 'std_dev'"
     ]
    }
   ],
   "source": [
    "domain = Domain()\n",
    "domain.fill(1500,20,1)\n",
    "data = pd.DataFrame()\n",
    "n = 20\n",
    "\n",
    "\n",
    "data = data.append(benchMark(domain, Epot_vectorized2_jit, \"vectorized, recycled, jit\", n))\n",
    "#data = data.append(benchMark(domain, Epot_vectorized3_jit, \"vectorized, recycled, half, slice, jit\", n))\n",
    "#data = data.append(benchMark(domain, Epot_vectorized4_jit, \"vectorized, compound, half slice, jit\", n))\n",
    "data = data.append(benchMark(domain, Epot_vectorized_einsum_jit, \"vectorized, einsum, jit\", n))\n",
    "data = data.append(benchMark(domain, Epot_vectorized2_dot_jit, \"vectorized, dot, jit\", n))\n",
    "data = data.append(benchMark(domain, Epot_montana_jit, \"Montaña\", n))\n",
    "\n",
    "data = data.drop_duplicates(subset=[\"label\"])\n",
    "data = data.sort_values(by=\"time\", ascending=False)\n",
    "data"
   ]
  },
  {
   "cell_type": "code",
   "execution_count": null,
   "metadata": {},
   "outputs": [],
   "source": []
  },
  {
   "cell_type": "code",
   "execution_count": 28,
   "metadata": {},
   "outputs": [
    {
     "output_type": "stream",
     "name": "stdout",
     "text": [
      "796991.9888693788\n796991.9888693788\n"
     ]
    }
   ],
   "source": [
    "\n",
    "def Epot_vectorized_einsum(x):\n",
    "    n = len(x)\n",
    "    broadcasted = x[:, jnp.newaxis, :] - x   # calculate the distance between all particles while utilizing jnp.broadcast\n",
    "    v = broadcasted.reshape(n*n,3)\n",
    "    r = jnp.einsum(\"ij,ij->i\",v,v)  # calculate squared norm\n",
    "    r6 =  jnp.nan_to_num(jnp.power(r, -3), posinf=0.0)  # = (1/r²)^6\n",
    "    return 4*(2*r6*r6 - r6).sum()\n",
    "\n",
    "domain = Domain()\n",
    "domain.fill(2,10,1)\n",
    "print(Epot_vectorized3(domain.pos))\n",
    "print(Epot_vectorized(domain.pos))"
   ]
  },
  {
   "source": [
    "# detailed analysis of Epot_vectorized2"
   ],
   "cell_type": "markdown",
   "metadata": {}
  },
  {
   "cell_type": "code",
   "execution_count": 29,
   "metadata": {},
   "outputs": [
    {
     "output_type": "stream",
     "name": "stderr",
     "text": [
      "<ipython-input-29-2986ebbb10a8>:2: DeprecationWarning: The default dtype for empty Series will be 'object' instead of 'float64' in a future version. Specify a dtype explicitly to silence this warning.\n  df = pd.Series()\n"
     ]
    },
    {
     "output_type": "execute_result",
     "data": {
      "text/plain": [
       "broadcast    4.792786e-04\n",
       "len          6.747246e-07\n",
       "norm         1.045728e-04\n",
       "r6           1.007180e-03\n",
       "res          1.358404e-03\n",
       "reshape      2.765656e-06\n",
       "dtype: float64"
      ]
     },
     "metadata": {},
     "execution_count": 29
    }
   ],
   "source": [
    "def Epot_vectorized2(x):\n",
    "    df = pd.Series()\n",
    "\n",
    "    start = time.time()\n",
    "    n = len(x)\n",
    "    end = time.time()\n",
    "    df[\"len\"] = end-start\n",
    "\n",
    "    start = time.time()\n",
    "    broadcasted = x[:, jnp.newaxis, :] - x   # calculate the distance between all particles while utilizing jnp.broadcast\n",
    "    end = time.time()\n",
    "    df[\"broadcast\"] = end-start\n",
    "\n",
    "    start = time.time()\n",
    "    broadcasted = broadcasted.reshape(n*n,3)\n",
    "    end = time.time()\n",
    "    df[\"reshape\"] = end-start\n",
    "\n",
    "    start = time.time()\n",
    "    r = jnp.linalg.norm(broadcasted, axis=1)  # calculate the euclidian norm of all distances\n",
    "    end = time.time()\n",
    "    df[\"norm\"] = end-start\n",
    "\n",
    "    start = time.time()\n",
    "    r6 =  jnp.nan_to_num(jnp.power(r, -6), posinf=0.0)\n",
    "    end = time.time()\n",
    "    df[\"r6\"] = end-start\n",
    "\n",
    "    start = time.time()\n",
    "    res = 4*(2*r6*r6 - r6).sum()\n",
    "    end = time.time()\n",
    "    df[\"res\"] = end-start\n",
    "    return df\n",
    "\n",
    "\n",
    "domain = Domain()\n",
    "domain.fill(200, 200, 1)\n",
    "df = pd.DataFrame()\n",
    "for i in range(100):\n",
    "    df = df.append(Epot_vectorized2(domain.pos),ignore_index=True)\n",
    "\n",
    "df.mean()"
   ]
  },
  {
   "cell_type": "code",
   "execution_count": 30,
   "metadata": {},
   "outputs": [
    {
     "output_type": "stream",
     "name": "stdout",
     "text": [
      "1.2063084442038974e+25\n1.2063084442038836e+25\n"
     ]
    }
   ],
   "source": [
    "def Epot_vectorized2(x):\n",
    "    n = len(x)\n",
    "    broadcasted = x[:, jnp.newaxis, :] - x   # calculate the distance between all particles while utilizing jnp.broadcast\n",
    "    broadcasted = broadcasted.reshape(n*n,3)\n",
    "    r = jnp.linalg.norm(broadcasted, axis=1)  # calculate the euclidian norm of all distances\n",
    "    r6 =  jnp.nan_to_num(jnp.power(r, -6), posinf=0.0)\n",
    "    return 4*(2*r6*r6 - r6).sum()\n",
    "\n",
    "def Epot_vectorized_dot(x):\n",
    "    n = len(x)\n",
    "    broadcasted = x[:, jnp.newaxis, :] - x   # calculate the distance between all particles while utilizing jnp.broadcast\n",
    "    broadcasted = broadcasted.reshape(n*n,3)\n",
    "    r = jnp.linalg.norm(broadcasted, axis=1)  # calculate the euclidian norm of all distances\n",
    "    r6 =  jnp.nan_to_num(jnp.power(r, -6), posinf=0.0)\n",
    "    return 4*(2*jnp.dot(r6,r6) - r6.sum())\n",
    "\n",
    "domain = Domain()\n",
    "domain.fill(200, 200, 1)\n",
    "print(Epot_vectorized2(domain.pos))\n",
    "print(Epot_vectorized_dot(domain.pos))"
   ]
  },
  {
   "cell_type": "code",
   "execution_count": 31,
   "metadata": {},
   "outputs": [
    {
     "output_type": "stream",
     "name": "stdout",
     "text": [
      "135564519.06590313\n135564519.06590313\n135564519.06590313\n"
     ]
    },
    {
     "output_type": "execute_result",
     "data": {
      "text/plain": [
       "numpy.float64"
      ]
     },
     "metadata": {},
     "execution_count": 31
    }
   ],
   "source": [
    "def Epot_vectorized_lin(x):\n",
    "    x = to3D(x)\n",
    "    n = len(x)\n",
    "    broadcasted = x[:, jnp.newaxis, :] - x   # calculate the distance between all particles while utilizing jnp.broadcast\n",
    "    broadcasted = broadcasted.reshape(n*n,3)\n",
    "    r = jnp.linalg.norm(broadcasted, axis=1)  # calculate the euclidian norm of all distances\n",
    "    r6 =  jnp.nan_to_num(jnp.power(r, -6), posinf=0.0)\n",
    "    return 4*(2*r6*r6 - r6).sum()\n",
    "\n",
    "\n",
    "def Epot_vectorized2(x):\n",
    "    n = len(x)\n",
    "    broadcasted = x[:, jnp.newaxis, :] - x   # calculate the distance between all particles while utilizing jnp.broadcast\n",
    "    broadcasted = broadcasted.reshape(n*n,3)\n",
    "    r = jnp.linalg.norm(broadcasted, axis=1)  # calculate the euclidian norm of all distances\n",
    "    r6 =  jnp.nan_to_num(jnp.power(r, -6), posinf=0.0)\n",
    "    return 4*(2*r6*r6 - r6).sum()\n",
    "\n",
    "np.random.seed(1)\n",
    "domain = Domain()\n",
    "domain.fill(10, 20, 1)\n",
    "print(Epot_vectorized_lin(domain.pos.ravel()))\n",
    "print(Epot_vectorized_lin(domain.pos))\n",
    "print(Epot_vectorized2(domain.pos))\n",
    "type(domain.pos[0][0])"
   ]
  },
  {
   "cell_type": "code",
   "execution_count": null,
   "metadata": {},
   "outputs": [],
   "source": []
  },
  {
   "cell_type": "code",
   "execution_count": 32,
   "metadata": {},
   "outputs": [
    {
     "output_type": "error",
     "ename": "AttributeError",
     "evalue": "module 'matplotlib.pyplot' has no attribute 'x_label'",
     "traceback": [
      "\u001b[0;31m---------------------------------------------------------------------------\u001b[0m",
      "\u001b[0;31mAttributeError\u001b[0m                            Traceback (most recent call last)",
      "\u001b[0;32m<ipython-input-32-d996254885b5>\u001b[0m in \u001b[0;36m<module>\u001b[0;34m\u001b[0m\n\u001b[1;32m      9\u001b[0m \u001b[0;34m\u001b[0m\u001b[0m\n\u001b[1;32m     10\u001b[0m \u001b[0mplt\u001b[0m\u001b[0;34m.\u001b[0m\u001b[0mplot\u001b[0m\u001b[0;34m(\u001b[0m\u001b[0mL_vals\u001b[0m\u001b[0;34m,\u001b[0m\u001b[0mE_vals\u001b[0m\u001b[0;34m)\u001b[0m\u001b[0;34m\u001b[0m\u001b[0;34m\u001b[0m\u001b[0m\n\u001b[0;32m---> 11\u001b[0;31m \u001b[0mplt\u001b[0m\u001b[0;34m.\u001b[0m\u001b[0mx_label\u001b[0m\u001b[0;34m(\u001b[0m\u001b[0;34m)\u001b[0m\u001b[0;34m\u001b[0m\u001b[0;34m\u001b[0m\u001b[0m\n\u001b[0m\u001b[1;32m     12\u001b[0m \u001b[0mplt\u001b[0m\u001b[0;34m.\u001b[0m\u001b[0mgrid\u001b[0m\u001b[0;34m(\u001b[0m\u001b[0;34m)\u001b[0m\u001b[0;34m\u001b[0m\u001b[0;34m\u001b[0m\u001b[0m\n",
      "\u001b[0;31mAttributeError\u001b[0m: module 'matplotlib.pyplot' has no attribute 'x_label'"
     ]
    }
   ],
   "source": [
    "import matplotlib.pyplot as plt\n",
    "E_vals = []\n",
    "L_vals = np.linspace(14,40,100)\n",
    "for L in L_vals:\n",
    "    np.random.seed(1)\n",
    "    domain = Domain()\n",
    "    domain.fill(20, L, 1)  \n",
    "    E_vals.append(domain.Epot(domain.pos))\n",
    "\n",
    "plt.plot(L_vals,E_vals)\n",
    "plt.x_label()\n",
    "plt.grid()"
   ]
  },
  {
   "cell_type": "code",
   "execution_count": 30,
   "metadata": {},
   "outputs": [
    {
     "output_type": "display_data",
     "data": {
      "text/plain": "<Figure size 432x288 with 1 Axes>",
      "image/svg+xml": "<?xml version=\"1.0\" encoding=\"utf-8\" standalone=\"no\"?>\n<!DOCTYPE svg PUBLIC \"-//W3C//DTD SVG 1.1//EN\"\n  \"http://www.w3.org/Graphics/SVG/1.1/DTD/svg11.dtd\">\n<svg height=\"248.518125pt\" version=\"1.1\" viewBox=\"0 0 380.482812 248.518125\" width=\"380.482812pt\" xmlns=\"http://www.w3.org/2000/svg\" xmlns:xlink=\"http://www.w3.org/1999/xlink\">\n <metadata>\n  <rdf:RDF xmlns:cc=\"http://creativecommons.org/ns#\" xmlns:dc=\"http://purl.org/dc/elements/1.1/\" xmlns:rdf=\"http://www.w3.org/1999/02/22-rdf-syntax-ns#\">\n   <cc:Work>\n    <dc:type rdf:resource=\"http://purl.org/dc/dcmitype/StillImage\"/>\n    <dc:date>2021-04-29T01:21:15.963046</dc:date>\n    <dc:format>image/svg+xml</dc:format>\n    <dc:creator>\n     <cc:Agent>\n      <dc:title>Matplotlib v3.4.1, https://matplotlib.org/</dc:title>\n     </cc:Agent>\n    </dc:creator>\n   </cc:Work>\n  </rdf:RDF>\n </metadata>\n <defs>\n  <style type=\"text/css\">*{stroke-linecap:butt;stroke-linejoin:round;}</style>\n </defs>\n <g id=\"figure_1\">\n  <g id=\"patch_1\">\n   <path d=\"M -0 248.518125 \nL 380.482812 248.518125 \nL 380.482812 0 \nL -0 0 \nz\n\" style=\"fill:none;\"/>\n  </g>\n  <g id=\"axes_1\">\n   <g id=\"patch_2\">\n    <path d=\"M 38.482813 224.64 \nL 373.282813 224.64 \nL 373.282813 7.2 \nL 38.482813 7.2 \nz\n\" style=\"fill:#ffffff;\"/>\n   </g>\n   <g id=\"matplotlib.axis_1\">\n    <g id=\"xtick_1\">\n     <g id=\"line2d_1\">\n      <path clip-path=\"url(#pc38165b234)\" d=\"M 65.407288 224.64 \nL 65.407288 7.2 \n\" style=\"fill:none;stroke:#b0b0b0;stroke-linecap:square;stroke-width:0.8;\"/>\n     </g>\n     <g id=\"line2d_2\">\n      <defs>\n       <path d=\"M 0 0 \nL 0 3.5 \n\" id=\"me3cd978175\" style=\"stroke:#000000;stroke-width:0.8;\"/>\n      </defs>\n      <g>\n       <use style=\"stroke:#000000;stroke-width:0.8;\" x=\"65.407288\" xlink:href=\"#me3cd978175\" y=\"224.64\"/>\n      </g>\n     </g>\n     <g id=\"text_1\">\n      <!-- 15 -->\n      <g transform=\"translate(59.044788 239.238437)scale(0.1 -0.1)\">\n       <defs>\n        <path d=\"M 794 531 \nL 1825 531 \nL 1825 4091 \nL 703 3866 \nL 703 4441 \nL 1819 4666 \nL 2450 4666 \nL 2450 531 \nL 3481 531 \nL 3481 0 \nL 794 0 \nL 794 531 \nz\n\" id=\"DejaVuSans-31\" transform=\"scale(0.015625)\"/>\n        <path d=\"M 691 4666 \nL 3169 4666 \nL 3169 4134 \nL 1269 4134 \nL 1269 2991 \nQ 1406 3038 1543 3061 \nQ 1681 3084 1819 3084 \nQ 2600 3084 3056 2656 \nQ 3513 2228 3513 1497 \nQ 3513 744 3044 326 \nQ 2575 -91 1722 -91 \nQ 1428 -91 1123 -41 \nQ 819 9 494 109 \nL 494 744 \nQ 775 591 1075 516 \nQ 1375 441 1709 441 \nQ 2250 441 2565 725 \nQ 2881 1009 2881 1497 \nQ 2881 1984 2565 2268 \nQ 2250 2553 1709 2553 \nQ 1456 2553 1204 2497 \nQ 953 2441 691 2322 \nL 691 4666 \nz\n\" id=\"DejaVuSans-35\" transform=\"scale(0.015625)\"/>\n       </defs>\n       <use xlink:href=\"#DejaVuSans-31\"/>\n       <use x=\"63.623047\" xlink:href=\"#DejaVuSans-35\"/>\n      </g>\n     </g>\n    </g>\n    <g id=\"xtick_2\">\n     <g id=\"line2d_3\">\n      <path clip-path=\"url(#pc38165b234)\" d=\"M 123.938757 224.64 \nL 123.938757 7.2 \n\" style=\"fill:none;stroke:#b0b0b0;stroke-linecap:square;stroke-width:0.8;\"/>\n     </g>\n     <g id=\"line2d_4\">\n      <g>\n       <use style=\"stroke:#000000;stroke-width:0.8;\" x=\"123.938757\" xlink:href=\"#me3cd978175\" y=\"224.64\"/>\n      </g>\n     </g>\n     <g id=\"text_2\">\n      <!-- 20 -->\n      <g transform=\"translate(117.576257 239.238437)scale(0.1 -0.1)\">\n       <defs>\n        <path d=\"M 1228 531 \nL 3431 531 \nL 3431 0 \nL 469 0 \nL 469 531 \nQ 828 903 1448 1529 \nQ 2069 2156 2228 2338 \nQ 2531 2678 2651 2914 \nQ 2772 3150 2772 3378 \nQ 2772 3750 2511 3984 \nQ 2250 4219 1831 4219 \nQ 1534 4219 1204 4116 \nQ 875 4013 500 3803 \nL 500 4441 \nQ 881 4594 1212 4672 \nQ 1544 4750 1819 4750 \nQ 2544 4750 2975 4387 \nQ 3406 4025 3406 3419 \nQ 3406 3131 3298 2873 \nQ 3191 2616 2906 2266 \nQ 2828 2175 2409 1742 \nQ 1991 1309 1228 531 \nz\n\" id=\"DejaVuSans-32\" transform=\"scale(0.015625)\"/>\n        <path d=\"M 2034 4250 \nQ 1547 4250 1301 3770 \nQ 1056 3291 1056 2328 \nQ 1056 1369 1301 889 \nQ 1547 409 2034 409 \nQ 2525 409 2770 889 \nQ 3016 1369 3016 2328 \nQ 3016 3291 2770 3770 \nQ 2525 4250 2034 4250 \nz\nM 2034 4750 \nQ 2819 4750 3233 4129 \nQ 3647 3509 3647 2328 \nQ 3647 1150 3233 529 \nQ 2819 -91 2034 -91 \nQ 1250 -91 836 529 \nQ 422 1150 422 2328 \nQ 422 3509 836 4129 \nQ 1250 4750 2034 4750 \nz\n\" id=\"DejaVuSans-30\" transform=\"scale(0.015625)\"/>\n       </defs>\n       <use xlink:href=\"#DejaVuSans-32\"/>\n       <use x=\"63.623047\" xlink:href=\"#DejaVuSans-30\"/>\n      </g>\n     </g>\n    </g>\n    <g id=\"xtick_3\">\n     <g id=\"line2d_5\">\n      <path clip-path=\"url(#pc38165b234)\" d=\"M 182.470225 224.64 \nL 182.470225 7.2 \n\" style=\"fill:none;stroke:#b0b0b0;stroke-linecap:square;stroke-width:0.8;\"/>\n     </g>\n     <g id=\"line2d_6\">\n      <g>\n       <use style=\"stroke:#000000;stroke-width:0.8;\" x=\"182.470225\" xlink:href=\"#me3cd978175\" y=\"224.64\"/>\n      </g>\n     </g>\n     <g id=\"text_3\">\n      <!-- 25 -->\n      <g transform=\"translate(176.107725 239.238437)scale(0.1 -0.1)\">\n       <use xlink:href=\"#DejaVuSans-32\"/>\n       <use x=\"63.623047\" xlink:href=\"#DejaVuSans-35\"/>\n      </g>\n     </g>\n    </g>\n    <g id=\"xtick_4\">\n     <g id=\"line2d_7\">\n      <path clip-path=\"url(#pc38165b234)\" d=\"M 241.001694 224.64 \nL 241.001694 7.2 \n\" style=\"fill:none;stroke:#b0b0b0;stroke-linecap:square;stroke-width:0.8;\"/>\n     </g>\n     <g id=\"line2d_8\">\n      <g>\n       <use style=\"stroke:#000000;stroke-width:0.8;\" x=\"241.001694\" xlink:href=\"#me3cd978175\" y=\"224.64\"/>\n      </g>\n     </g>\n     <g id=\"text_4\">\n      <!-- 30 -->\n      <g transform=\"translate(234.639194 239.238437)scale(0.1 -0.1)\">\n       <defs>\n        <path d=\"M 2597 2516 \nQ 3050 2419 3304 2112 \nQ 3559 1806 3559 1356 \nQ 3559 666 3084 287 \nQ 2609 -91 1734 -91 \nQ 1441 -91 1130 -33 \nQ 819 25 488 141 \nL 488 750 \nQ 750 597 1062 519 \nQ 1375 441 1716 441 \nQ 2309 441 2620 675 \nQ 2931 909 2931 1356 \nQ 2931 1769 2642 2001 \nQ 2353 2234 1838 2234 \nL 1294 2234 \nL 1294 2753 \nL 1863 2753 \nQ 2328 2753 2575 2939 \nQ 2822 3125 2822 3475 \nQ 2822 3834 2567 4026 \nQ 2313 4219 1838 4219 \nQ 1578 4219 1281 4162 \nQ 984 4106 628 3988 \nL 628 4550 \nQ 988 4650 1302 4700 \nQ 1616 4750 1894 4750 \nQ 2613 4750 3031 4423 \nQ 3450 4097 3450 3541 \nQ 3450 3153 3228 2886 \nQ 3006 2619 2597 2516 \nz\n\" id=\"DejaVuSans-33\" transform=\"scale(0.015625)\"/>\n       </defs>\n       <use xlink:href=\"#DejaVuSans-33\"/>\n       <use x=\"63.623047\" xlink:href=\"#DejaVuSans-30\"/>\n      </g>\n     </g>\n    </g>\n    <g id=\"xtick_5\">\n     <g id=\"line2d_9\">\n      <path clip-path=\"url(#pc38165b234)\" d=\"M 299.533162 224.64 \nL 299.533162 7.2 \n\" style=\"fill:none;stroke:#b0b0b0;stroke-linecap:square;stroke-width:0.8;\"/>\n     </g>\n     <g id=\"line2d_10\">\n      <g>\n       <use style=\"stroke:#000000;stroke-width:0.8;\" x=\"299.533162\" xlink:href=\"#me3cd978175\" y=\"224.64\"/>\n      </g>\n     </g>\n     <g id=\"text_5\">\n      <!-- 35 -->\n      <g transform=\"translate(293.170662 239.238437)scale(0.1 -0.1)\">\n       <use xlink:href=\"#DejaVuSans-33\"/>\n       <use x=\"63.623047\" xlink:href=\"#DejaVuSans-35\"/>\n      </g>\n     </g>\n    </g>\n    <g id=\"xtick_6\">\n     <g id=\"line2d_11\">\n      <path clip-path=\"url(#pc38165b234)\" d=\"M 358.064631 224.64 \nL 358.064631 7.2 \n\" style=\"fill:none;stroke:#b0b0b0;stroke-linecap:square;stroke-width:0.8;\"/>\n     </g>\n     <g id=\"line2d_12\">\n      <g>\n       <use style=\"stroke:#000000;stroke-width:0.8;\" x=\"358.064631\" xlink:href=\"#me3cd978175\" y=\"224.64\"/>\n      </g>\n     </g>\n     <g id=\"text_6\">\n      <!-- 40 -->\n      <g transform=\"translate(351.702131 239.238437)scale(0.1 -0.1)\">\n       <defs>\n        <path d=\"M 2419 4116 \nL 825 1625 \nL 2419 1625 \nL 2419 4116 \nz\nM 2253 4666 \nL 3047 4666 \nL 3047 1625 \nL 3713 1625 \nL 3713 1100 \nL 3047 1100 \nL 3047 0 \nL 2419 0 \nL 2419 1100 \nL 313 1100 \nL 313 1709 \nL 2253 4666 \nz\n\" id=\"DejaVuSans-34\" transform=\"scale(0.015625)\"/>\n       </defs>\n       <use xlink:href=\"#DejaVuSans-34\"/>\n       <use x=\"63.623047\" xlink:href=\"#DejaVuSans-30\"/>\n      </g>\n     </g>\n    </g>\n   </g>\n   <g id=\"matplotlib.axis_2\">\n    <g id=\"ytick_1\">\n     <g id=\"line2d_13\">\n      <path clip-path=\"url(#pc38165b234)\" d=\"M 38.482813 202.062236 \nL 373.282813 202.062236 \n\" style=\"fill:none;stroke:#b0b0b0;stroke-linecap:square;stroke-width:0.8;\"/>\n     </g>\n     <g id=\"line2d_14\">\n      <defs>\n       <path d=\"M 0 0 \nL -3.5 0 \n\" id=\"m8b3328f4d9\" style=\"stroke:#000000;stroke-width:0.8;\"/>\n      </defs>\n      <g>\n       <use style=\"stroke:#000000;stroke-width:0.8;\" x=\"38.482813\" xlink:href=\"#m8b3328f4d9\" y=\"202.062236\"/>\n      </g>\n     </g>\n     <g id=\"text_7\">\n      <!-- −1.0 -->\n      <g transform=\"translate(7.2 205.861455)scale(0.1 -0.1)\">\n       <defs>\n        <path d=\"M 678 2272 \nL 4684 2272 \nL 4684 1741 \nL 678 1741 \nL 678 2272 \nz\n\" id=\"DejaVuSans-2212\" transform=\"scale(0.015625)\"/>\n        <path d=\"M 684 794 \nL 1344 794 \nL 1344 0 \nL 684 0 \nL 684 794 \nz\n\" id=\"DejaVuSans-2e\" transform=\"scale(0.015625)\"/>\n       </defs>\n       <use xlink:href=\"#DejaVuSans-2212\"/>\n       <use x=\"83.789062\" xlink:href=\"#DejaVuSans-31\"/>\n       <use x=\"147.412109\" xlink:href=\"#DejaVuSans-2e\"/>\n       <use x=\"179.199219\" xlink:href=\"#DejaVuSans-30\"/>\n      </g>\n     </g>\n    </g>\n    <g id=\"ytick_2\">\n     <g id=\"line2d_15\">\n      <path clip-path=\"url(#pc38165b234)\" d=\"M 38.482813 164.289113 \nL 373.282813 164.289113 \n\" style=\"fill:none;stroke:#b0b0b0;stroke-linecap:square;stroke-width:0.8;\"/>\n     </g>\n     <g id=\"line2d_16\">\n      <g>\n       <use style=\"stroke:#000000;stroke-width:0.8;\" x=\"38.482813\" xlink:href=\"#m8b3328f4d9\" y=\"164.289113\"/>\n      </g>\n     </g>\n     <g id=\"text_8\">\n      <!-- −0.5 -->\n      <g transform=\"translate(7.2 168.088331)scale(0.1 -0.1)\">\n       <use xlink:href=\"#DejaVuSans-2212\"/>\n       <use x=\"83.789062\" xlink:href=\"#DejaVuSans-30\"/>\n       <use x=\"147.412109\" xlink:href=\"#DejaVuSans-2e\"/>\n       <use x=\"179.199219\" xlink:href=\"#DejaVuSans-35\"/>\n      </g>\n     </g>\n    </g>\n    <g id=\"ytick_3\">\n     <g id=\"line2d_17\">\n      <path clip-path=\"url(#pc38165b234)\" d=\"M 38.482813 126.515989 \nL 373.282813 126.515989 \n\" style=\"fill:none;stroke:#b0b0b0;stroke-linecap:square;stroke-width:0.8;\"/>\n     </g>\n     <g id=\"line2d_18\">\n      <g>\n       <use style=\"stroke:#000000;stroke-width:0.8;\" x=\"38.482813\" xlink:href=\"#m8b3328f4d9\" y=\"126.515989\"/>\n      </g>\n     </g>\n     <g id=\"text_9\">\n      <!-- 0.0 -->\n      <g transform=\"translate(15.579688 130.315208)scale(0.1 -0.1)\">\n       <use xlink:href=\"#DejaVuSans-30\"/>\n       <use x=\"63.623047\" xlink:href=\"#DejaVuSans-2e\"/>\n       <use x=\"95.410156\" xlink:href=\"#DejaVuSans-30\"/>\n      </g>\n     </g>\n    </g>\n    <g id=\"ytick_4\">\n     <g id=\"line2d_19\">\n      <path clip-path=\"url(#pc38165b234)\" d=\"M 38.482813 88.742866 \nL 373.282813 88.742866 \n\" style=\"fill:none;stroke:#b0b0b0;stroke-linecap:square;stroke-width:0.8;\"/>\n     </g>\n     <g id=\"line2d_20\">\n      <g>\n       <use style=\"stroke:#000000;stroke-width:0.8;\" x=\"38.482813\" xlink:href=\"#m8b3328f4d9\" y=\"88.742866\"/>\n      </g>\n     </g>\n     <g id=\"text_10\">\n      <!-- 0.5 -->\n      <g transform=\"translate(15.579688 92.542084)scale(0.1 -0.1)\">\n       <use xlink:href=\"#DejaVuSans-30\"/>\n       <use x=\"63.623047\" xlink:href=\"#DejaVuSans-2e\"/>\n       <use x=\"95.410156\" xlink:href=\"#DejaVuSans-35\"/>\n      </g>\n     </g>\n    </g>\n    <g id=\"ytick_5\">\n     <g id=\"line2d_21\">\n      <path clip-path=\"url(#pc38165b234)\" d=\"M 38.482813 50.969742 \nL 373.282813 50.969742 \n\" style=\"fill:none;stroke:#b0b0b0;stroke-linecap:square;stroke-width:0.8;\"/>\n     </g>\n     <g id=\"line2d_22\">\n      <g>\n       <use style=\"stroke:#000000;stroke-width:0.8;\" x=\"38.482813\" xlink:href=\"#m8b3328f4d9\" y=\"50.969742\"/>\n      </g>\n     </g>\n     <g id=\"text_11\">\n      <!-- 1.0 -->\n      <g transform=\"translate(15.579688 54.768961)scale(0.1 -0.1)\">\n       <use xlink:href=\"#DejaVuSans-31\"/>\n       <use x=\"63.623047\" xlink:href=\"#DejaVuSans-2e\"/>\n       <use x=\"95.410156\" xlink:href=\"#DejaVuSans-30\"/>\n      </g>\n     </g>\n    </g>\n    <g id=\"ytick_6\">\n     <g id=\"line2d_23\">\n      <path clip-path=\"url(#pc38165b234)\" d=\"M 38.482813 13.196619 \nL 373.282813 13.196619 \n\" style=\"fill:none;stroke:#b0b0b0;stroke-linecap:square;stroke-width:0.8;\"/>\n     </g>\n     <g id=\"line2d_24\">\n      <g>\n       <use style=\"stroke:#000000;stroke-width:0.8;\" x=\"38.482813\" xlink:href=\"#m8b3328f4d9\" y=\"13.196619\"/>\n      </g>\n     </g>\n     <g id=\"text_12\">\n      <!-- 1.5 -->\n      <g transform=\"translate(15.579688 16.995838)scale(0.1 -0.1)\">\n       <use xlink:href=\"#DejaVuSans-31\"/>\n       <use x=\"63.623047\" xlink:href=\"#DejaVuSans-2e\"/>\n       <use x=\"95.410156\" xlink:href=\"#DejaVuSans-35\"/>\n      </g>\n     </g>\n    </g>\n   </g>\n   <g id=\"line2d_25\">\n    <path clip-path=\"url(#pc38165b234)\" d=\"M 53.700994 17.083636 \nL 59.912497 127.285374 \nL 66.124 182.27131 \nL 72.335503 206.807129 \nL 78.547005 214.756364 \nL 84.758508 213.923101 \nL 90.970011 208.702718 \nL 97.181514 201.554457 \nL 103.393017 193.831435 \nL 109.604519 186.253515 \nL 115.816022 179.178786 \nL 122.027525 172.761035 \nL 128.239028 167.04074 \nL 134.45053 161.998299 \nL 140.662033 157.584268 \nL 146.873536 153.736833 \nL 153.085039 150.391509 \nL 159.296542 147.486224 \nL 165.508044 144.963824 \nL 171.719547 142.773058 \nL 177.93105 140.868749 \nL 184.142553 139.211508 \nL 190.354056 137.767248 \nL 196.565558 136.506611 \nL 202.777061 135.404384 \nL 208.988564 134.438918 \nL 215.200067 133.591703 \nL 221.411569 132.846858 \nL 227.623072 132.190785 \nL 233.834575 131.611815 \nL 240.046078 131.099933 \nL 246.257581 130.646528 \nL 252.469083 130.244185 \nL 258.680586 129.88651 \nL 264.892089 129.567987 \nL 271.103592 129.283831 \nL 277.315095 129.02991 \nL 283.526597 128.802627 \nL 289.7381 128.59886 \nL 295.949603 128.415882 \nL 302.161106 128.251322 \nL 308.372608 128.103098 \nL 314.584111 127.969394 \nL 320.795614 127.848614 \nL 327.007117 127.739353 \nL 333.21862 127.640379 \nL 339.430122 127.550603 \nL 345.641625 127.469062 \nL 351.853128 127.394909 \nL 358.064631 127.327389 \n\" style=\"fill:none;stroke:#1f77b4;stroke-linecap:square;stroke-width:1.5;\"/>\n   </g>\n   <g id=\"patch_3\">\n    <path d=\"M 38.482813 224.64 \nL 38.482813 7.2 \n\" style=\"fill:none;stroke:#000000;stroke-linecap:square;stroke-linejoin:miter;stroke-width:0.8;\"/>\n   </g>\n   <g id=\"patch_4\">\n    <path d=\"M 373.282813 224.64 \nL 373.282813 7.2 \n\" style=\"fill:none;stroke:#000000;stroke-linecap:square;stroke-linejoin:miter;stroke-width:0.8;\"/>\n   </g>\n   <g id=\"patch_5\">\n    <path d=\"M 38.482812 224.64 \nL 373.282812 224.64 \n\" style=\"fill:none;stroke:#000000;stroke-linecap:square;stroke-linejoin:miter;stroke-width:0.8;\"/>\n   </g>\n   <g id=\"patch_6\">\n    <path d=\"M 38.482812 7.2 \nL 373.282812 7.2 \n\" style=\"fill:none;stroke:#000000;stroke-linecap:square;stroke-linejoin:miter;stroke-width:0.8;\"/>\n   </g>\n  </g>\n </g>\n <defs>\n  <clipPath id=\"pc38165b234\">\n   <rect height=\"217.44\" width=\"334.8\" x=\"38.482813\" y=\"7.2\"/>\n  </clipPath>\n </defs>\n</svg>\n",
      "image/png": "[encoded data removed]"
     },
     "metadata": {
      "needs_background": "light"
     }
    }
   ],
   "source": [
    "import matplotlib.pyplot as plt\n",
    "E_vals = []\n",
    "n_vals = range(8,16)\n",
    "for L in L_vals:\n",
    "    np.random.seed(1)\n",
    "    domain = Domain()\n",
    "    domain.fill(20, L, 1)  \n",
    "    E_vals.append(domain.Epot(domain.pos))\n",
    "\n",
    "plt.plot(L_vals,E_vals)\n",
    "plt.grid()"
   ]
  },
  {
   "cell_type": "code",
   "execution_count": 42,
   "metadata": {},
   "outputs": [
    {
     "output_type": "execute_result",
     "data": {
      "text/plain": [
       "       time label          result  n_particles  size\n",
       "0  0.000145                     0            1    20\n",
       "0  0.002363        -0.00011651808            2    20\n",
       "0  0.007288         -5.087674e-05            3    20\n",
       "0  0.013186         -0.0046864464            4    20\n",
       "0  0.022041         -0.0003056219            5    20\n",
       "0  0.035088           -0.00050497            6    20\n",
       "0  0.049925         -0.0023295258            7    20\n",
       "0  0.063370         -0.0018563541            8    20\n",
       "0  0.081884          -0.028779186            9    20\n",
       "0  0.103700           -0.11123018           10    20\n",
       "0  0.125716          -0.015425913           11    20\n",
       "0  0.151104          -0.012821947           12    20\n",
       "0  0.176766           -0.03577689           13    20\n",
       "0  0.210712          -0.016191557           14    20\n",
       "0  0.247463           -0.03726345           15    20\n",
       "0  0.289676          -0.059401765           16    20\n",
       "0  0.307624          -0.045149285           17    20\n",
       "0  0.357705           -0.08024895           18    20\n",
       "0  0.390017          -0.066557504           19    20\n",
       "0  0.436966          -0.027003886           20    20\n",
       "0  0.493097           -0.05489845           21    20\n",
       "0  0.544093           -0.07074249           22    20\n",
       "0  0.576916           -0.13487001           23    20\n",
       "0  0.626857           -0.14394754           24    20\n",
       "0  0.688067           -0.08448174           25    20\n",
       "0  0.749046          -0.071375005           26    20\n",
       "0  0.808572           -0.07437853           27    20\n",
       "0  0.866616           -0.51923555           28    20\n",
       "0  0.939647           -0.87847835           29    20"
      ],
      "text/html": "<div>\n<style scoped>\n    .dataframe tbody tr th:only-of-type {\n        vertical-align: middle;\n    }\n\n    .dataframe tbody tr th {\n        vertical-align: top;\n    }\n\n    .dataframe thead th {\n        text-align: right;\n    }\n</style>\n<table border=\"1\" class=\"dataframe\">\n  <thead>\n    <tr style=\"text-align: right;\">\n      <th></th>\n      <th>time</th>\n      <th>label</th>\n      <th>result</th>\n      <th>n_particles</th>\n      <th>size</th>\n    </tr>\n  </thead>\n  <tbody>\n    <tr>\n      <th>0</th>\n      <td>0.000145</td>\n      <td></td>\n      <td>0</td>\n      <td>1</td>\n      <td>20</td>\n    </tr>\n    <tr>\n      <th>0</th>\n      <td>0.002363</td>\n      <td></td>\n      <td>-0.00011651808</td>\n      <td>2</td>\n      <td>20</td>\n    </tr>\n    <tr>\n      <th>0</th>\n      <td>0.007288</td>\n      <td></td>\n      <td>-5.087674e-05</td>\n      <td>3</td>\n      <td>20</td>\n    </tr>\n    <tr>\n      <th>0</th>\n      <td>0.013186</td>\n      <td></td>\n      <td>-0.0046864464</td>\n      <td>4</td>\n      <td>20</td>\n    </tr>\n    <tr>\n      <th>0</th>\n      <td>0.022041</td>\n      <td></td>\n      <td>-0.0003056219</td>\n      <td>5</td>\n      <td>20</td>\n    </tr>\n    <tr>\n      <th>0</th>\n      <td>0.035088</td>\n      <td></td>\n      <td>-0.00050497</td>\n      <td>6</td>\n      <td>20</td>\n    </tr>\n    <tr>\n      <th>0</th>\n      <td>0.049925</td>\n      <td></td>\n      <td>-0.0023295258</td>\n      <td>7</td>\n      <td>20</td>\n    </tr>\n    <tr>\n      <th>0</th>\n      <td>0.063370</td>\n      <td></td>\n      <td>-0.0018563541</td>\n      <td>8</td>\n      <td>20</td>\n    </tr>\n    <tr>\n      <th>0</th>\n      <td>0.081884</td>\n      <td></td>\n      <td>-0.028779186</td>\n      <td>9</td>\n      <td>20</td>\n    </tr>\n    <tr>\n      <th>0</th>\n      <td>0.103700</td>\n      <td></td>\n      <td>-0.11123018</td>\n      <td>10</td>\n      <td>20</td>\n    </tr>\n    <tr>\n      <th>0</th>\n      <td>0.125716</td>\n      <td></td>\n      <td>-0.015425913</td>\n      <td>11</td>\n      <td>20</td>\n    </tr>\n    <tr>\n      <th>0</th>\n      <td>0.151104</td>\n      <td></td>\n      <td>-0.012821947</td>\n      <td>12</td>\n      <td>20</td>\n    </tr>\n    <tr>\n      <th>0</th>\n      <td>0.176766</td>\n      <td></td>\n      <td>-0.03577689</td>\n      <td>13</td>\n      <td>20</td>\n    </tr>\n    <tr>\n      <th>0</th>\n      <td>0.210712</td>\n      <td></td>\n      <td>-0.016191557</td>\n      <td>14</td>\n      <td>20</td>\n    </tr>\n    <tr>\n      <th>0</th>\n      <td>0.247463</td>\n      <td></td>\n      <td>-0.03726345</td>\n      <td>15</td>\n      <td>20</td>\n    </tr>\n    <tr>\n      <th>0</th>\n      <td>0.289676</td>\n      <td></td>\n      <td>-0.059401765</td>\n      <td>16</td>\n      <td>20</td>\n    </tr>\n    <tr>\n      <th>0</th>\n      <td>0.307624</td>\n      <td></td>\n      <td>-0.045149285</td>\n      <td>17</td>\n      <td>20</td>\n    </tr>\n    <tr>\n      <th>0</th>\n      <td>0.357705</td>\n      <td></td>\n      <td>-0.08024895</td>\n      <td>18</td>\n      <td>20</td>\n    </tr>\n    <tr>\n      <th>0</th>\n      <td>0.390017</td>\n      <td></td>\n      <td>-0.066557504</td>\n      <td>19</td>\n      <td>20</td>\n    </tr>\n    <tr>\n      <th>0</th>\n      <td>0.436966</td>\n      <td></td>\n      <td>-0.027003886</td>\n      <td>20</td>\n      <td>20</td>\n    </tr>\n    <tr>\n      <th>0</th>\n      <td>0.493097</td>\n      <td></td>\n      <td>-0.05489845</td>\n      <td>21</td>\n      <td>20</td>\n    </tr>\n    <tr>\n      <th>0</th>\n      <td>0.544093</td>\n      <td></td>\n      <td>-0.07074249</td>\n      <td>22</td>\n      <td>20</td>\n    </tr>\n    <tr>\n      <th>0</th>\n      <td>0.576916</td>\n      <td></td>\n      <td>-0.13487001</td>\n      <td>23</td>\n      <td>20</td>\n    </tr>\n    <tr>\n      <th>0</th>\n      <td>0.626857</td>\n      <td></td>\n      <td>-0.14394754</td>\n      <td>24</td>\n      <td>20</td>\n    </tr>\n    <tr>\n      <th>0</th>\n      <td>0.688067</td>\n      <td></td>\n      <td>-0.08448174</td>\n      <td>25</td>\n      <td>20</td>\n    </tr>\n    <tr>\n      <th>0</th>\n      <td>0.749046</td>\n      <td></td>\n      <td>-0.071375005</td>\n      <td>26</td>\n      <td>20</td>\n    </tr>\n    <tr>\n      <th>0</th>\n      <td>0.808572</td>\n      <td></td>\n      <td>-0.07437853</td>\n      <td>27</td>\n      <td>20</td>\n    </tr>\n    <tr>\n      <th>0</th>\n      <td>0.866616</td>\n      <td></td>\n      <td>-0.51923555</td>\n      <td>28</td>\n      <td>20</td>\n    </tr>\n    <tr>\n      <th>0</th>\n      <td>0.939647</td>\n      <td></td>\n      <td>-0.87847835</td>\n      <td>29</td>\n      <td>20</td>\n    </tr>\n  </tbody>\n</table>\n</div>"
     },
     "metadata": {},
     "execution_count": 42
    }
   ],
   "source": [
    "\n",
    "data = pd.DataFrame()\n",
    "n_vals = list(range(1,30))\n",
    "for n in n_vals:\n",
    "    domain = Domain()\n",
    "    domain.fill(n,20,1, 1)\n",
    "\n",
    "\n",
    "    data = data.append(benchMark(domain, Epot_loops_nojit, \"\", n))\n",
    "data"
   ]
  },
  {
   "cell_type": "code",
   "execution_count": null,
   "metadata": {},
   "outputs": [],
   "source": []
  }
 ]
}