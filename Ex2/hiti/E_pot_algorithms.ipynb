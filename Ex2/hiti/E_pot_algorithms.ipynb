{
 "metadata": {
  "language_info": {
   "codemirror_mode": {
    "name": "ipython",
    "version": 3
   },
   "file_extension": ".py",
   "mimetype": "text/x-python",
   "name": "python",
   "nbconvert_exporter": "python",
   "pygments_lexer": "ipython3",
   "version": "3.8.6"
  },
  "orig_nbformat": 2,
  "kernelspec": {
   "name": "python386jvsc74a57bd031f2aee4e71d21fbe5cf8b01ff0e069b9275f58929596ceb00d14d90e3e16cd6",
   "display_name": "Python 3.8.6 64-bit"
  },
  "metadata": {
   "interpreter": {
    "hash": "31f2aee4e71d21fbe5cf8b01ff0e069b9275f58929596ceb00d14d90e3e16cd6"
   }
  }
 },
 "nbformat": 4,
 "nbformat_minor": 2,
 "cells": [
  {
   "cell_type": "code",
   "execution_count": 1,
   "metadata": {},
   "outputs": [],
   "source": [
    "#include parent folder\n",
    "import os, sys, inspect\n",
    "\n",
    "currentdir = os.path.dirname(\n",
    "    os.path.abspath(inspect.getfile(inspect.currentframe())))\n",
    "parentdir = os.path.dirname(currentdir)\n",
    "sys.path.insert(0, parentdir)\n",
    "\n",
    "import time\n",
    "import timeit\n",
    "import numpy as np\n",
    "import pytest\n",
    "import jax\n",
    "import jax.numpy as jnp\n",
    "import functools\n",
    "import scipy\n",
    "import pandas as pd\n",
    "\n",
    "from src.domain import Domain\n",
    "from src.misc import *"
   ]
  },
  {
   "cell_type": "code",
   "execution_count": 22,
   "metadata": {},
   "outputs": [],
   "source": [
    "def VLJ1(v, w):   \n",
    "    r = jnp.linalg.norm(v-w) # euclidian distance between points\n",
    "    return 4 * (4*pow(1 / r, 12) - 2*pow(1 / r, 6))\n",
    "\n",
    "def VLJ2(v, w):\n",
    "    r = jnp.linalg.norm(v-w) # euclidian distance between points\n",
    "    r6 = pow(1 / r, 6)    # recycle exponents\n",
    "    return (16*r6*r6 - 8*r6)\n",
    "\n",
    "def VLJ3(r):\n",
    "    return 4 * (4*pow(1 / r, 12) - 2*pow(1 / r, 6))\n",
    "\n",
    "VLJ1_jit = jax.jit(VLJ1)\n",
    "VLJ2_jit = jax.jit(VLJ2)\n",
    "\n",
    "def Epot_loops_nojit(pos): \n",
    "    # primitive Loop   \n",
    "    v = to3D(pos)\n",
    "    E = 0\n",
    "    for i in range(len(v)):\n",
    "        for j in range(i + 1, len(v)):\n",
    "            E += VLJ1(v[i], v[j])    # using jit actually shaved off 20% form runtime  \n",
    "    return E  \n",
    "\n",
    "def Epot_loops_VLJ1_jit(v): \n",
    "    # primitive Loop   \n",
    "    E = 0\n",
    "    for i in range(len(v)):\n",
    "        for j in range(i + 1, len(v)):\n",
    "            E += VLJ1_jit(v[i], v[j])  \n",
    "    return E \n",
    "\n",
    "\n",
    "def Epot_loops_VLJ2_jit(v): \n",
    "    # primitive Loop   \n",
    "    E = 0\n",
    "    for i in range(len(v)):\n",
    "        for j in range(i + 1, len(v)):\n",
    "            E += VLJ2_jit(v[i], v[j])   \n",
    "    return E   \n",
    "\n",
    "def Epot_broadcasted(x):\n",
    "    n = len(x)\n",
    "    broadcasted = x[:, np.newaxis, :] - x   # calculate the distance between all particles\n",
    "    broadcasted = broadcasted.reshape(n*n,3)   # reshape such that we have a list of distance vectors\n",
    "    dist = np.linalg.norm(broadcasted, axis=1)  # calculate the euclidian norm of all distances\n",
    "    dist = dist[dist != 0]    # remove 0s\n",
    "    E = 0\n",
    "    for d in dist:\n",
    "        E += VLJ3(d)\n",
    "\n",
    "    return E /2\n",
    "\n",
    "def Epot_cdist(pos):\n",
    "    return np.triu(scipy.spatial.distance.cdist(pos, pos, metric=VLJ1)).sum()\n",
    "\n",
    "def Epot_cdist_jnp(pos):\n",
    "    return jnp.triu(scipy.spatial.distance.cdist(pos, pos, metric=VLJ1)).sum()\n",
    "\n",
    "Epot_loops_jit = jax.jit(Epot_loops_VLJ1_jit)\n",
    "Epot_loops2_jit = jax.jit(Epot_loops_VLJ2_jit)"
   ]
  },
  {
   "cell_type": "code",
   "execution_count": 23,
   "metadata": {},
   "outputs": [],
   "source": [
    "def benchMark(domain, Epot_func, label=\"\", n=5):\n",
    "    result = Epot_func(domain.pos)  # call so that the jit compiler does not affect the benchmark\n",
    "\n",
    "    timer = timeit.Timer(functools.partial(Epot_func, domain.pos))\n",
    "    t = timer.timeit(n) / n # Rrepeat n times and take average\n",
    "    \"\"\"\n",
    "    t = 0\n",
    "    for i in range(n):\n",
    "        start = time.time()\n",
    "        Epot_func(domain.pos)\n",
    "        end = time.time()\n",
    "        t += (end - start)\n",
    "\n",
    "    t = t /n\n",
    "    \"\"\"\n",
    "\n",
    "    return pd.DataFrame(data={\n",
    "        'time': [t], \n",
    "        'label': [label], \n",
    "        \"result\" : [result],\n",
    "        \"n_particles\" : [len(domain.pos)],\n",
    "        \"size\" : [domain.length]\n",
    "        })\n",
    "\n",
    "domain = Domain()\n",
    "domain.fill(10,20,1)\n",
    "data = pd.DataFrame()"
   ]
  },
  {
   "cell_type": "code",
   "execution_count": 24,
   "metadata": {},
   "outputs": [],
   "source": [
    "# slow  ones\n",
    "n = 1\n",
    "data = data.append(benchMark(domain, Epot_loops_nojit, \"primitive loop, no jit\", n))\n",
    "data = data.append(benchMark(domain, Epot_loops_VLJ1_jit, \"primitive loop, jit\", n))"
   ]
  },
  {
   "cell_type": "code",
   "execution_count": 35,
   "metadata": {},
   "outputs": [],
   "source": [
    "# fast ones but long compile time\n",
    "n = 20\n",
    "data = data.append(benchMark(domain, Epot_loops_jit, \"loop, all jitted\", n))\n",
    "data = data.append(benchMark(domain, Epot_loops2_jit, \"loops, all jitted, recycled exonents\", n))"
   ]
  },
  {
   "cell_type": "code",
   "execution_count": 25,
   "metadata": {},
   "outputs": [
    {
     "output_type": "error",
     "ename": "TypeError",
     "evalue": "slice indices must be integers or None or have an __index__ method",
     "traceback": [
      "\u001b[0;31m---------------------------------------------------------------------------\u001b[0m",
      "\u001b[0;31mTypeError\u001b[0m                                 Traceback (most recent call last)",
      "\u001b[0;32m<ipython-input-25-1756edf0270b>\u001b[0m in \u001b[0;36m<module>\u001b[0;34m\u001b[0m\n\u001b[1;32m      1\u001b[0m \u001b[0;31m# broadcasted\u001b[0m\u001b[0;34m\u001b[0m\u001b[0;34m\u001b[0m\u001b[0;34m\u001b[0m\u001b[0m\n\u001b[1;32m      2\u001b[0m \u001b[0mn\u001b[0m \u001b[0;34m=\u001b[0m \u001b[0;36m10\u001b[0m\u001b[0;34m\u001b[0m\u001b[0;34m\u001b[0m\u001b[0m\n\u001b[0;32m----> 3\u001b[0;31m \u001b[0mdata\u001b[0m \u001b[0;34m=\u001b[0m \u001b[0mdata\u001b[0m\u001b[0;34m.\u001b[0m\u001b[0mappend\u001b[0m\u001b[0;34m(\u001b[0m\u001b[0mbenchMark\u001b[0m\u001b[0;34m(\u001b[0m\u001b[0mdomain\u001b[0m\u001b[0;34m,\u001b[0m \u001b[0mEpot_broadcasted\u001b[0m\u001b[0;34m,\u001b[0m \u001b[0;34m\"broadcasted\"\u001b[0m\u001b[0;34m,\u001b[0m \u001b[0mn\u001b[0m\u001b[0;34m)\u001b[0m\u001b[0;34m)\u001b[0m\u001b[0;34m\u001b[0m\u001b[0;34m\u001b[0m\u001b[0m\n\u001b[0m",
      "\u001b[0;32m<ipython-input-23-79a995d9247d>\u001b[0m in \u001b[0;36mbenchMark\u001b[0;34m(domain, Epot_func, label, n)\u001b[0m\n\u001b[1;32m      1\u001b[0m \u001b[0;32mdef\u001b[0m \u001b[0mbenchMark\u001b[0m\u001b[0;34m(\u001b[0m\u001b[0mdomain\u001b[0m\u001b[0;34m,\u001b[0m \u001b[0mEpot_func\u001b[0m\u001b[0;34m,\u001b[0m \u001b[0mlabel\u001b[0m\u001b[0;34m=\u001b[0m\u001b[0;34m\"\"\u001b[0m\u001b[0;34m,\u001b[0m \u001b[0mn\u001b[0m\u001b[0;34m=\u001b[0m\u001b[0;36m5\u001b[0m\u001b[0;34m)\u001b[0m\u001b[0;34m:\u001b[0m\u001b[0;34m\u001b[0m\u001b[0;34m\u001b[0m\u001b[0m\n\u001b[0;32m----> 2\u001b[0;31m     \u001b[0mresult\u001b[0m \u001b[0;34m=\u001b[0m \u001b[0mEpot_func\u001b[0m\u001b[0;34m(\u001b[0m\u001b[0mdomain\u001b[0m\u001b[0;34m.\u001b[0m\u001b[0mpos\u001b[0m\u001b[0;34m)\u001b[0m  \u001b[0;31m# call so that the jit compiler does not affect the benchmark\u001b[0m\u001b[0;34m\u001b[0m\u001b[0;34m\u001b[0m\u001b[0m\n\u001b[0m\u001b[1;32m      3\u001b[0m \u001b[0;34m\u001b[0m\u001b[0m\n\u001b[1;32m      4\u001b[0m     \u001b[0mtimer\u001b[0m \u001b[0;34m=\u001b[0m \u001b[0mtimeit\u001b[0m\u001b[0;34m.\u001b[0m\u001b[0mTimer\u001b[0m\u001b[0;34m(\u001b[0m\u001b[0mfunctools\u001b[0m\u001b[0;34m.\u001b[0m\u001b[0mpartial\u001b[0m\u001b[0;34m(\u001b[0m\u001b[0mEpot_func\u001b[0m\u001b[0;34m,\u001b[0m \u001b[0mdomain\u001b[0m\u001b[0;34m.\u001b[0m\u001b[0mpos\u001b[0m\u001b[0;34m)\u001b[0m\u001b[0;34m)\u001b[0m\u001b[0;34m\u001b[0m\u001b[0;34m\u001b[0m\u001b[0m\n\u001b[1;32m      5\u001b[0m     \u001b[0mt\u001b[0m \u001b[0;34m=\u001b[0m \u001b[0mtimer\u001b[0m\u001b[0;34m.\u001b[0m\u001b[0mtimeit\u001b[0m\u001b[0;34m(\u001b[0m\u001b[0mn\u001b[0m\u001b[0;34m)\u001b[0m \u001b[0;34m/\u001b[0m \u001b[0mn\u001b[0m \u001b[0;31m# Rrepeat n times and take average\u001b[0m\u001b[0;34m\u001b[0m\u001b[0;34m\u001b[0m\u001b[0m\n",
      "\u001b[0;32m<ipython-input-22-762ae47f5739>\u001b[0m in \u001b[0;36mEpot_broadcasted\u001b[0;34m(x)\u001b[0m\n\u001b[1;32m     43\u001b[0m     \u001b[0mn\u001b[0m \u001b[0;34m=\u001b[0m \u001b[0mlen\u001b[0m\u001b[0;34m(\u001b[0m\u001b[0mx\u001b[0m\u001b[0;34m)\u001b[0m\u001b[0;34m\u001b[0m\u001b[0;34m\u001b[0m\u001b[0m\n\u001b[1;32m     44\u001b[0m     \u001b[0mbroadcasted\u001b[0m \u001b[0;34m=\u001b[0m \u001b[0mx\u001b[0m\u001b[0;34m[\u001b[0m\u001b[0;34m:\u001b[0m\u001b[0;34m,\u001b[0m \u001b[0mnp\u001b[0m\u001b[0;34m.\u001b[0m\u001b[0mnewaxis\u001b[0m\u001b[0;34m,\u001b[0m \u001b[0;34m:\u001b[0m\u001b[0;34m]\u001b[0m \u001b[0;34m-\u001b[0m \u001b[0mx\u001b[0m   \u001b[0;31m# calculate the distance between all particles\u001b[0m\u001b[0;34m\u001b[0m\u001b[0;34m\u001b[0m\u001b[0m\n\u001b[0;32m---> 45\u001b[0;31m     \u001b[0mbroadcasted\u001b[0m \u001b[0;34m=\u001b[0m \u001b[0mbroadcasted\u001b[0m\u001b[0;34m.\u001b[0m\u001b[0mreshape\u001b[0m\u001b[0;34m(\u001b[0m\u001b[0mn\u001b[0m\u001b[0;34m*\u001b[0m\u001b[0mn\u001b[0m\u001b[0;34m,\u001b[0m\u001b[0;36m3\u001b[0m\u001b[0;34m)\u001b[0m\u001b[0;34m[\u001b[0m\u001b[0;34m:\u001b[0m\u001b[0mn\u001b[0m\u001b[0;34m/\u001b[0m\u001b[0;36m2\u001b[0m\u001b[0;34m]\u001b[0m    \u001b[0;31m# reshape such that we have a list of distance vectors\u001b[0m\u001b[0;34m\u001b[0m\u001b[0;34m\u001b[0m\u001b[0m\n\u001b[0m\u001b[1;32m     46\u001b[0m     \u001b[0mdist\u001b[0m \u001b[0;34m=\u001b[0m \u001b[0mnp\u001b[0m\u001b[0;34m.\u001b[0m\u001b[0mlinalg\u001b[0m\u001b[0;34m.\u001b[0m\u001b[0mnorm\u001b[0m\u001b[0;34m(\u001b[0m\u001b[0mbroadcasted\u001b[0m\u001b[0;34m,\u001b[0m \u001b[0maxis\u001b[0m\u001b[0;34m=\u001b[0m\u001b[0;36m1\u001b[0m\u001b[0;34m)\u001b[0m  \u001b[0;31m# calculate the euclidian norm of all distances\u001b[0m\u001b[0;34m\u001b[0m\u001b[0;34m\u001b[0m\u001b[0m\n\u001b[1;32m     47\u001b[0m     \u001b[0mdist\u001b[0m \u001b[0;34m=\u001b[0m \u001b[0mdist\u001b[0m\u001b[0;34m[\u001b[0m\u001b[0mdist\u001b[0m \u001b[0;34m!=\u001b[0m \u001b[0;36m0\u001b[0m\u001b[0;34m]\u001b[0m    \u001b[0;31m# remove 0s\u001b[0m\u001b[0;34m\u001b[0m\u001b[0;34m\u001b[0m\u001b[0m\n",
      "\u001b[0;31mTypeError\u001b[0m: slice indices must be integers or None or have an __index__ method"
     ]
    }
   ],
   "source": [
    "# broadcasted\n",
    "n = 10\n",
    "data = data.append(benchMark(domain, Epot_broadcasted, \"broadcasted\", n))"
   ]
  },
  {
   "cell_type": "code",
   "execution_count": 26,
   "metadata": {},
   "outputs": [
    {
     "output_type": "execute_result",
     "data": {
      "text/plain": [
       "       time                   label        result  n_particles  size\n",
       "0  0.220923  primitive loop, no jit  -0.001249408           10    20\n",
       "0  0.009306     primitive loop, jit  -0.001249408           10    20"
      ],
      "text/html": "<div>\n<style scoped>\n    .dataframe tbody tr th:only-of-type {\n        vertical-align: middle;\n    }\n\n    .dataframe tbody tr th {\n        vertical-align: top;\n    }\n\n    .dataframe thead th {\n        text-align: right;\n    }\n</style>\n<table border=\"1\" class=\"dataframe\">\n  <thead>\n    <tr style=\"text-align: right;\">\n      <th></th>\n      <th>time</th>\n      <th>label</th>\n      <th>result</th>\n      <th>n_particles</th>\n      <th>size</th>\n    </tr>\n  </thead>\n  <tbody>\n    <tr>\n      <th>0</th>\n      <td>0.220923</td>\n      <td>primitive loop, no jit</td>\n      <td>-0.001249408</td>\n      <td>10</td>\n      <td>20</td>\n    </tr>\n    <tr>\n      <th>0</th>\n      <td>0.009306</td>\n      <td>primitive loop, jit</td>\n      <td>-0.001249408</td>\n      <td>10</td>\n      <td>20</td>\n    </tr>\n  </tbody>\n</table>\n</div>"
     },
     "metadata": {},
     "execution_count": 26
    }
   ],
   "source": [
    "# results\n",
    "data = data.drop_duplicates(subset=[\"label\"])\n",
    "data = data.sort_values(by=\"time\", ascending=False)\n",
    "data"
   ]
  },
  {
   "cell_type": "code",
   "execution_count": 29,
   "metadata": {},
   "outputs": [
    {
     "output_type": "execute_result",
     "data": {
      "text/plain": [
       "array([0.73708982, 0.55480865, 0.27753123, 0.68815769, 0.73708982,\n",
       "       0.9501852 , 0.69886296, 1.21739952, 0.55480865, 0.9501852 ,\n",
       "       0.55095957, 0.5063818 , 0.27753123, 0.69886296, 0.55095957,\n",
       "       0.86053834, 0.68815769, 1.21739952, 0.5063818 , 0.86053834])"
      ]
     },
     "metadata": {},
     "execution_count": 29
    }
   ],
   "source": [
    "x = np.array([\n",
    "    [1,1,1],\n",
    "    [2,2,2],\n",
    "    [3,3,3],\n",
    "    [4,4,4]\n",
    "])\n",
    "\n",
    "domain = Domain()\n",
    "domain.fill(5, 1, 1)\n",
    "x = domain.pos\n",
    "n = len(x)\n",
    "broadcasted = x[:, np.newaxis, :] - x\n",
    "broadcasted = broadcasted.reshape(n*n,3)\n",
    "l = np.linalg.norm(broadcasted, axis=1)\n",
    "l[l != 0]"
   ]
  },
  {
   "cell_type": "code",
   "execution_count": 52,
   "metadata": {},
   "outputs": [
    {
     "output_type": "error",
     "ename": "ValueError",
     "evalue": "cannot reshape array of size 75 into shape (100,3)",
     "traceback": [
      "\u001b[0;31m---------------------------------------------------------------------------\u001b[0m",
      "\u001b[0;31mValueError\u001b[0m                                Traceback (most recent call last)",
      "\u001b[0;32m<ipython-input-52-d44d111d20e0>\u001b[0m in \u001b[0;36m<module>\u001b[0;34m\u001b[0m\n\u001b[1;32m     13\u001b[0m \u001b[0mdomain\u001b[0m\u001b[0;34m.\u001b[0m\u001b[0mfill\u001b[0m\u001b[0;34m(\u001b[0m\u001b[0;36m5\u001b[0m\u001b[0;34m,\u001b[0m \u001b[0;36m1\u001b[0m\u001b[0;34m,\u001b[0m \u001b[0;36m1\u001b[0m\u001b[0;34m)\u001b[0m\u001b[0;34m\u001b[0m\u001b[0;34m\u001b[0m\u001b[0m\n\u001b[1;32m     14\u001b[0m \u001b[0mx\u001b[0m \u001b[0;34m=\u001b[0m \u001b[0mdomain\u001b[0m\u001b[0;34m.\u001b[0m\u001b[0mpos\u001b[0m\u001b[0;34m\u001b[0m\u001b[0;34m\u001b[0m\u001b[0m\n\u001b[0;32m---> 15\u001b[0;31m \u001b[0mEpot_broadcasted\u001b[0m\u001b[0;34m(\u001b[0m\u001b[0mx\u001b[0m\u001b[0;34m)\u001b[0m\u001b[0;34m\u001b[0m\u001b[0;34m\u001b[0m\u001b[0m\n\u001b[0m",
      "\u001b[0;32m<ipython-input-52-d44d111d20e0>\u001b[0m in \u001b[0;36mEpot_broadcasted\u001b[0;34m(v)\u001b[0m\n\u001b[1;32m      1\u001b[0m \u001b[0;32mdef\u001b[0m \u001b[0mEpot_broadcasted\u001b[0m\u001b[0;34m(\u001b[0m\u001b[0mv\u001b[0m\u001b[0;34m)\u001b[0m\u001b[0;34m:\u001b[0m\u001b[0;34m\u001b[0m\u001b[0;34m\u001b[0m\u001b[0m\n\u001b[1;32m      2\u001b[0m     \u001b[0mbroadcasted\u001b[0m \u001b[0;34m=\u001b[0m \u001b[0mx\u001b[0m\u001b[0;34m[\u001b[0m\u001b[0;34m:\u001b[0m\u001b[0;34m,\u001b[0m \u001b[0mnp\u001b[0m\u001b[0;34m.\u001b[0m\u001b[0mnewaxis\u001b[0m\u001b[0;34m,\u001b[0m \u001b[0;34m:\u001b[0m\u001b[0;34m]\u001b[0m \u001b[0;34m-\u001b[0m \u001b[0mx\u001b[0m   \u001b[0;31m# calculate the distance between all particles\u001b[0m\u001b[0;34m\u001b[0m\u001b[0;34m\u001b[0m\u001b[0m\n\u001b[0;32m----> 3\u001b[0;31m     \u001b[0mbroadcasted\u001b[0m \u001b[0;34m=\u001b[0m \u001b[0mbroadcasted\u001b[0m\u001b[0;34m.\u001b[0m\u001b[0mreshape\u001b[0m\u001b[0;34m(\u001b[0m\u001b[0mn\u001b[0m\u001b[0;34m*\u001b[0m\u001b[0mn\u001b[0m\u001b[0;34m,\u001b[0m\u001b[0;36m3\u001b[0m\u001b[0;34m)\u001b[0m    \u001b[0;31m# reshape such that we have a list of distance vectors\u001b[0m\u001b[0;34m\u001b[0m\u001b[0;34m\u001b[0m\u001b[0m\n\u001b[0m\u001b[1;32m      4\u001b[0m     \u001b[0mdist\u001b[0m \u001b[0;34m=\u001b[0m \u001b[0mnp\u001b[0m\u001b[0;34m.\u001b[0m\u001b[0mlinalg\u001b[0m\u001b[0;34m.\u001b[0m\u001b[0mnorm\u001b[0m\u001b[0;34m(\u001b[0m\u001b[0mbroadcasted\u001b[0m\u001b[0;34m,\u001b[0m \u001b[0maxis\u001b[0m\u001b[0;34m=\u001b[0m\u001b[0;36m1\u001b[0m\u001b[0;34m)\u001b[0m  \u001b[0;31m# calculate the euclidian norm of all distances\u001b[0m\u001b[0;34m\u001b[0m\u001b[0;34m\u001b[0m\u001b[0m\n\u001b[1;32m      5\u001b[0m     \u001b[0mdist\u001b[0m \u001b[0;34m=\u001b[0m \u001b[0mdist\u001b[0m\u001b[0;34m[\u001b[0m\u001b[0ml\u001b[0m \u001b[0;34m!=\u001b[0m \u001b[0;36m0\u001b[0m\u001b[0;34m]\u001b[0m    \u001b[0;31m# remove 0s\u001b[0m\u001b[0;34m\u001b[0m\u001b[0;34m\u001b[0m\u001b[0m\n",
      "\u001b[0;31mValueError\u001b[0m: cannot reshape array of size 75 into shape (100,3)"
     ]
    }
   ],
   "source": [
    "def Epot_broadcasted(v):\n",
    "    broadcasted = x[:, np.newaxis, :] - x   # calculate the distance between all particles\n",
    "    broadcasted = broadcasted.reshape(n*n,3)    # reshape such that we have a list of distance vectors\n",
    "    dist = np.linalg.norm(broadcasted, axis=1)  # calculate the euclidian norm of all distances\n",
    "    dist = dist[l != 0]    # remove 0s\n",
    "    E = 0\n",
    "    for d in dist:\n",
    "        E += VLJ3(d)\n",
    "\n",
    "    return E \n",
    "\n",
    "domain = Domain()\n",
    "domain.fill(5, 1, 1)\n",
    "x = domain.pos\n",
    "Epot_broadcasted(x)"
   ]
  },
  {
   "cell_type": "code",
   "execution_count": null,
   "metadata": {},
   "outputs": [],
   "source": []
  }
 ]
}