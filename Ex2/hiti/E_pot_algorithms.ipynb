{
 "metadata": {
  "language_info": {
   "codemirror_mode": {
    "name": "ipython",
    "version": 3
   },
   "file_extension": ".py",
   "mimetype": "text/x-python",
   "name": "python",
   "nbconvert_exporter": "python",
   "pygments_lexer": "ipython3",
   "version": "3.8.6"
  },
  "orig_nbformat": 2,
  "kernelspec": {
   "name": "python386jvsc74a57bd031f2aee4e71d21fbe5cf8b01ff0e069b9275f58929596ceb00d14d90e3e16cd6",
   "display_name": "Python 3.8.6 64-bit"
  },
  "metadata": {
   "interpreter": {
    "hash": "31f2aee4e71d21fbe5cf8b01ff0e069b9275f58929596ceb00d14d90e3e16cd6"
   }
  }
 },
 "nbformat": 4,
 "nbformat_minor": 2,
 "cells": [
  {
   "cell_type": "code",
   "execution_count": 113,
   "metadata": {},
   "outputs": [],
   "source": [
    "#include parent folder\n",
    "import os, sys, inspect\n",
    "\n",
    "currentdir = os.path.dirname(\n",
    "    os.path.abspath(inspect.getfile(inspect.currentframe())))\n",
    "parentdir = os.path.dirname(currentdir)\n",
    "sys.path.insert(0, parentdir)\n",
    "\n",
    "import time\n",
    "import timeit\n",
    "import numpy as np\n",
    "import pytest\n",
    "import jax\n",
    "import jax.numpy as jnp\n",
    "import functools\n",
    "import scipy\n",
    "import pandas as pd\n",
    "\n",
    "from src.domain import Domain\n",
    "from src.misc import *"
   ]
  },
  {
   "cell_type": "code",
   "execution_count": 114,
   "metadata": {},
   "outputs": [],
   "source": [
    "def VLJ1(v, w):   \n",
    "    r = jnp.linalg.norm(v-w) # euclidian distance between points\n",
    "    return 4 * (4*pow(1 / r, 12) - 2*pow(1 / r, 6))\n",
    "\n",
    "def VLJ2(v, w):\n",
    "    r = jnp.linalg.norm(v-w) # euclidian distance between points\n",
    "    r6 = pow(1 / r, 6)    # recycle exponents\n",
    "    return (16*r6*r6 - 8*r6)\n",
    "\n",
    "def VLJ3(r):\n",
    "    return 4 * (4*pow(1 / r, 12) - 2*pow(1 / r, 6)) # TODO: numpy pow\n",
    "\n",
    "VLJ1_jit = jax.jit(VLJ1)\n",
    "VLJ2_jit = jax.jit(VLJ2)\n",
    "VLJ3_jit = jax.jit(VLJ3)\n",
    "\n",
    "def Epot_loops_nojit(pos): \n",
    "    # primitive Loop   \n",
    "    v = to3D(pos)\n",
    "    E = 0\n",
    "    for i in range(len(v)):\n",
    "        for j in range(i + 1, len(v)):\n",
    "            E += VLJ1(v[i], v[j])    # using jit actually shaved off 20% form runtime  \n",
    "    return E  \n",
    "\n",
    "def Epot_loops_VLJ1_jit(v): \n",
    "    # primitive Loop   \n",
    "    E = 0\n",
    "    for i in range(len(v)):\n",
    "        for j in range(i + 1, len(v)):\n",
    "            E += VLJ1_jit(v[i], v[j])  \n",
    "    return E \n",
    "\n",
    "\n",
    "def Epot_loops_VLJ2_jit(v): \n",
    "    # primitive Loop   \n",
    "    E = 0\n",
    "    for i in range(len(v)):\n",
    "        for j in range(i + 1, len(v)):\n",
    "            E += VLJ2_jit(v[i], v[j])   \n",
    "    return E   \n",
    "\n",
    "def Epot_broadcasted(x):\n",
    "    n = len(x)\n",
    "    broadcasted = x[:, np.newaxis, :] - x   # calculate the distance between all particles\n",
    "    broadcasted = broadcasted.reshape(n*n,3)   # reshape such that we have a list of distance vectors\n",
    "    dist = np.linalg.norm(broadcasted, axis=1)  # calculate the euclidian norm of all distances\n",
    "    dist = dist[dist != 0]    # remove 0s\n",
    "    E = 0\n",
    "    for d in dist:\n",
    "        E += VLJ3(d)\n",
    "\n",
    "    return E /2\n",
    "\n",
    "def Epot_broadcasted(x):\n",
    "    n = len(x)\n",
    "    broadcasted = x[:, np.newaxis, :] - x   # calculate the distance between all particles\n",
    "    broadcasted = broadcasted.reshape(n*n,3)   # reshape such that we have a list of distance vectors\n",
    "    dist = np.linalg.norm(broadcasted, axis=1)  # calculate the euclidian norm of all distances\n",
    "    dist = dist[dist != 0]    # remove 0s\n",
    "    E = 0\n",
    "    for d in dist:\n",
    "        E += VLJ3(d)\n",
    "\n",
    "    return E /2\n",
    "\n",
    "\n",
    "def Epot_broadcasted_jnp(x):\n",
    "    n = len(x)\n",
    "    broadcasted = x[:, jnp.newaxis, :] - x   # calculate the distance between all particles\n",
    "    broadcasted = broadcasted.reshape(n*n,3)   # reshape such that we have a list of distance vectors\n",
    "    dist = jnp.linalg.norm(broadcasted, axis=1)  # calculate the euclidian norm of all distances\n",
    "    dist = dist[dist != 0]    # remove 0s\n",
    "    E = 0\n",
    "    for d in dist:\n",
    "        E += VLJ3(d)\n",
    "\n",
    "    return E /2\n",
    "\n",
    "def Epot_vectorized(x):\n",
    "    n = len(x)\n",
    "    broadcasted = x[:, jnp.newaxis, :] - x   # calculate the distance between all particles\n",
    "    broadcasted = broadcasted.reshape(n*n,3)   # reshape such that we have a list of distance vectors\n",
    "    r = jnp.linalg.norm(broadcasted, axis=1)  # calculate the euclidian norm of all distances\n",
    "    r = r[r != 0]    # remove 0s\n",
    "    return 4 * (4*np.power(r, -12) - 2*np.power(r, -6)).sum() / 2 # TODO: numpy pow\n",
    "\n",
    "\n",
    "def Epot_vectorized2(x):\n",
    "    n = len(x)\n",
    "    broadcasted = x[:, jnp.newaxis, :] - x   # calculate the distance between all particles while utilizing jnp.broadcast\n",
    "    broadcasted = broadcasted.reshape(n*n,3)\n",
    "    r = jnp.linalg.norm(broadcasted, axis=1)  # calculate the euclidian norm of all distances\n",
    "    r6 =  jnp.nan_to_num(jnp.power(r, -6), posinf=0.0)\n",
    "    return 4*(2*r6*r6 - r6).sum()\n",
    "\n",
    "def Epot_vectorized2_dot(x):\n",
    "    n = len(x)\n",
    "    broadcasted = x[:, jnp.newaxis, :] - x   # calculate the distance between all particles while utilizing jnp.broadcast\n",
    "    broadcasted = broadcasted.reshape(n*n,3)\n",
    "    r = jnp.linalg.norm(broadcasted, axis=1)  # calculate the euclidian norm of all distances\n",
    "    r6 =  jnp.nan_to_num(jnp.power(r, -6), posinf=0.0)\n",
    "    return 4*(2*jnp.dot(r6,r6) - r6.sum())\n",
    "\n",
    "\n",
    "def Epot_vectorized3(x):\n",
    "    n = len(x)\n",
    "    broadcasted = x[:, jnp.newaxis, :] - x   # calculate the distance between all particles while utilizing jnp.broadcast\n",
    "    broadcasted = broadcasted.reshape(n*n,3)\n",
    "    broadcasted = broadcasted[(n*n)//2:]\n",
    "    r = jnp.linalg.norm(broadcasted, axis=1)  # calculate the euclidian norm of all distances\n",
    "    r6 =  jnp.nan_to_num(jnp.power(r, -6), posinf=0.0)\n",
    "    return 8*(2*r6*r6 - r6).sum()\n",
    "\n",
    "def Epot_vectorized4(x):\n",
    "    n2 = len(x)*len(x)\n",
    "    broadcasted = jnp.array(x[:, jnp.newaxis, :] - x)   # calculate the distance between all particles while utilizing jnp.broadcast\n",
    "    broadcasted = broadcasted.reshape(n2,3) # to Nx3\n",
    "    broadcasted = broadcasted[(n2)//2:]\n",
    "    r = jnp.linalg.norm(broadcasted, axis=1)  # calculate the euclidian norm of all distances\n",
    "    r6 =  jnp.nan_to_num(jnp.power(r, -6), posinf=0.0)\n",
    "    return 8*(2*r6*r6 - r6).sum()\n",
    "\n",
    "\n",
    "def Epot_vectorized_einsum(x):\n",
    "    n = len(x)\n",
    "    broadcasted = x[:, jnp.newaxis, :] - x   # calculate the distance between all particles while utilizing jnp.broadcast\n",
    "    v = broadcasted.reshape(n*n,3)\n",
    "    r = jnp.einsum(\"ij,ij->i\",v,v)  # calculate squared norm\n",
    "    r6 =  jnp.nan_to_num(jnp.power(r, -3), posinf=0.0)  # = (1/r²)^6\n",
    "    return 4*(2*r6*r6 - r6).sum()\n",
    "\n",
    "\n",
    "def Epot_cdist(pos):\n",
    "    return np.triu(scipy.spatial.distance.cdist(pos, pos, metric=VLJ1)).sum()\n",
    "\n",
    "def Epot_cdist_jnp(pos):\n",
    "    return jnp.triu(scipy.spatial.distance.cdist(pos, pos, metric=VLJ1)).sum()\n",
    "\n",
    "Epot_loops_jit = jax.jit(Epot_loops_VLJ1_jit)\n",
    "Epot_loops2_jit = jax.jit(Epot_loops_VLJ2_jit)\n",
    "Epot_vectorized2_jit = jax.jit(Epot_vectorized2)\n",
    "Epot_vectorized3_jit = jax.jit(Epot_vectorized3)\n",
    "Epot_vectorized4_jit = jax.jit(Epot_vectorized4)\n",
    "Epot_vectorized_einsum_jit = jax.jit(Epot_vectorized_einsum)\n",
    "Epot_vectorized2_dot_jit = jax.jit(Epot_vectorized2_dot)"
   ]
  },
  {
   "cell_type": "code",
   "execution_count": 115,
   "metadata": {},
   "outputs": [],
   "source": [
    "def benchMark(domain, Epot_func, label=\"\", n=5):\n",
    "    result = Epot_func(domain.pos)  # call so that the jit compiler does not affect the benchmark\n",
    "\n",
    "    timer = timeit.Timer(functools.partial(Epot_func, domain.pos))\n",
    "    t = timer.timeit(n) / n # Rrepeat n times and take average\n",
    "    \"\"\"\n",
    "    t = 0\n",
    "    for i in range(n):\n",
    "        start = time.time()\n",
    "        Epot_func(domain.pos)\n",
    "        end = time.time()\n",
    "        t += (end - start)\n",
    "\n",
    "    t = t /n\n",
    "    \"\"\"\n",
    "\n",
    "    return pd.DataFrame(data={\n",
    "        'time': [t], \n",
    "        'label': [label], \n",
    "        \"result\" : [result],\n",
    "        \"n_particles\" : [len(domain.pos)],\n",
    "        \"size\" : [domain.length]\n",
    "        })\n",
    "\n",
    "domain = Domain()\n",
    "domain.fill(10,20,1)\n",
    "data = pd.DataFrame()"
   ]
  },
  {
   "cell_type": "code",
   "execution_count": 116,
   "metadata": {},
   "outputs": [],
   "source": [
    "# slow  ones\n",
    "n = 1\n",
    "data = data.append(benchMark(domain, Epot_loops_nojit, \"primitive loop, no jit\", n))\n",
    "data = data.append(benchMark(domain, Epot_loops_VLJ1_jit, \"primitive loop, jit\", n))"
   ]
  },
  {
   "cell_type": "code",
   "execution_count": 117,
   "metadata": {},
   "outputs": [],
   "source": [
    "# fast ones but long compile time\n",
    "n = 20\n",
    "data = data.append(benchMark(domain, Epot_loops_jit, \"loop, all jitted\", n))\n",
    "data = data.append(benchMark(domain, Epot_loops2_jit, \"loops, all jitted, recycled exonents\", n))"
   ]
  },
  {
   "cell_type": "code",
   "execution_count": 118,
   "metadata": {},
   "outputs": [],
   "source": [
    "# broadcasted\n",
    "n = 10\n",
    "data = data.append(benchMark(domain, Epot_broadcasted, \"broadcasted\", n))\n",
    "data = data.append(benchMark(domain, Epot_broadcasted_jnp, \"broadcasted, jnp\", n))"
   ]
  },
  {
   "cell_type": "code",
   "execution_count": 119,
   "metadata": {},
   "outputs": [],
   "source": [
    "#vectocized\n",
    "n = 100\n",
    "data = data.append(benchMark(domain, Epot_vectorized, \"vectorized\", n))\n",
    "data = data.append(benchMark(domain, Epot_vectorized2, \"vectorized, recycled\", n))\n",
    "data = data.append(benchMark(domain, Epot_vectorized3, \"vectorized, recycled, half slice\", n))\n",
    "data = data.append(benchMark(domain, Epot_vectorized4, \"vectorized, compound, half slice\", n))\n",
    "data = data.append(benchMark(domain, Epot_vectorized_einsum, \"vectorized, einsum\", n))\n",
    "data = data.append(benchMark(domain, Epot_vectorized2_jit, \"vectorized, recycled, jit\", n))\n",
    "#data = data.append(benchMark(domain, Epot_vectorized3_jit, \"vectorized, recycled, half, slice, jit\", n))\n",
    "#data = data.append(benchMark(domain, Epot_vectorized4_jit, \"vectorized, compound, half slice, jit\", n))\n",
    "data = data.append(benchMark(domain, Epot_vectorized_einsum_jit, \"vectorized, einsum, jit\", n))\n",
    "data = data.append(benchMark(domain, Epot_vectorized2_dot_jit, \"vectorized, dot, jit\", n))"
   ]
  },
  {
   "cell_type": "code",
   "execution_count": 120,
   "metadata": {},
   "outputs": [
    {
     "output_type": "execute_result",
     "data": {
      "text/plain": [
       "       time                                 label         result  n_particles  \\\n",
       "0  0.227394                primitive loop, no jit  -0.0126299355           10   \n",
       "0  0.009372                   primitive loop, jit  -0.0126299355           10   \n",
       "0  0.003540      vectorized, compound, half slice    -0.01384379           10   \n",
       "0  0.003324                      broadcasted, jnp       -0.01263           10   \n",
       "0  0.002180                    vectorized, einsum   -0.012629934           10   \n",
       "0  0.002118      vectorized, recycled, half slice    -0.01384379           10   \n",
       "0  0.002106                  vectorized, recycled  -0.0126299355           10   \n",
       "0  0.002096                            vectorized       -0.01263           10   \n",
       "0  0.000245                           broadcasted       -0.01263           10   \n",
       "0  0.000047                      loop, all jitted  -0.0126299355           10   \n",
       "0  0.000046  loops, all jitted, recycled exonents  -0.0126299355           10   \n",
       "0  0.000043             vectorized, recycled, jit  -0.0126299355           10   \n",
       "0  0.000039                  vectorized, dot, jit   -0.012629934           10   \n",
       "0  0.000039               vectorized, einsum, jit  -0.0126299355           10   \n",
       "\n",
       "   size  \n",
       "0    20  \n",
       "0    20  \n",
       "0    20  \n",
       "0    20  \n",
       "0    20  \n",
       "0    20  \n",
       "0    20  \n",
       "0    20  \n",
       "0    20  \n",
       "0    20  \n",
       "0    20  \n",
       "0    20  \n",
       "0    20  \n",
       "0    20  "
      ],
      "text/html": "<div>\n<style scoped>\n    .dataframe tbody tr th:only-of-type {\n        vertical-align: middle;\n    }\n\n    .dataframe tbody tr th {\n        vertical-align: top;\n    }\n\n    .dataframe thead th {\n        text-align: right;\n    }\n</style>\n<table border=\"1\" class=\"dataframe\">\n  <thead>\n    <tr style=\"text-align: right;\">\n      <th></th>\n      <th>time</th>\n      <th>label</th>\n      <th>result</th>\n      <th>n_particles</th>\n      <th>size</th>\n    </tr>\n  </thead>\n  <tbody>\n    <tr>\n      <th>0</th>\n      <td>0.227394</td>\n      <td>primitive loop, no jit</td>\n      <td>-0.0126299355</td>\n      <td>10</td>\n      <td>20</td>\n    </tr>\n    <tr>\n      <th>0</th>\n      <td>0.009372</td>\n      <td>primitive loop, jit</td>\n      <td>-0.0126299355</td>\n      <td>10</td>\n      <td>20</td>\n    </tr>\n    <tr>\n      <th>0</th>\n      <td>0.003540</td>\n      <td>vectorized, compound, half slice</td>\n      <td>-0.01384379</td>\n      <td>10</td>\n      <td>20</td>\n    </tr>\n    <tr>\n      <th>0</th>\n      <td>0.003324</td>\n      <td>broadcasted, jnp</td>\n      <td>-0.01263</td>\n      <td>10</td>\n      <td>20</td>\n    </tr>\n    <tr>\n      <th>0</th>\n      <td>0.002180</td>\n      <td>vectorized, einsum</td>\n      <td>-0.012629934</td>\n      <td>10</td>\n      <td>20</td>\n    </tr>\n    <tr>\n      <th>0</th>\n      <td>0.002118</td>\n      <td>vectorized, recycled, half slice</td>\n      <td>-0.01384379</td>\n      <td>10</td>\n      <td>20</td>\n    </tr>\n    <tr>\n      <th>0</th>\n      <td>0.002106</td>\n      <td>vectorized, recycled</td>\n      <td>-0.0126299355</td>\n      <td>10</td>\n      <td>20</td>\n    </tr>\n    <tr>\n      <th>0</th>\n      <td>0.002096</td>\n      <td>vectorized</td>\n      <td>-0.01263</td>\n      <td>10</td>\n      <td>20</td>\n    </tr>\n    <tr>\n      <th>0</th>\n      <td>0.000245</td>\n      <td>broadcasted</td>\n      <td>-0.01263</td>\n      <td>10</td>\n      <td>20</td>\n    </tr>\n    <tr>\n      <th>0</th>\n      <td>0.000047</td>\n      <td>loop, all jitted</td>\n      <td>-0.0126299355</td>\n      <td>10</td>\n      <td>20</td>\n    </tr>\n    <tr>\n      <th>0</th>\n      <td>0.000046</td>\n      <td>loops, all jitted, recycled exonents</td>\n      <td>-0.0126299355</td>\n      <td>10</td>\n      <td>20</td>\n    </tr>\n    <tr>\n      <th>0</th>\n      <td>0.000043</td>\n      <td>vectorized, recycled, jit</td>\n      <td>-0.0126299355</td>\n      <td>10</td>\n      <td>20</td>\n    </tr>\n    <tr>\n      <th>0</th>\n      <td>0.000039</td>\n      <td>vectorized, dot, jit</td>\n      <td>-0.012629934</td>\n      <td>10</td>\n      <td>20</td>\n    </tr>\n    <tr>\n      <th>0</th>\n      <td>0.000039</td>\n      <td>vectorized, einsum, jit</td>\n      <td>-0.0126299355</td>\n      <td>10</td>\n      <td>20</td>\n    </tr>\n  </tbody>\n</table>\n</div>"
     },
     "metadata": {},
     "execution_count": 120
    }
   ],
   "source": [
    "# results\n",
    "data = data.drop_duplicates(subset=[\"label\"])\n",
    "data = data.sort_values(by=\"time\", ascending=False)\n",
    "data"
   ]
  },
  {
   "source": [
    "# Bigger Domain"
   ],
   "cell_type": "markdown",
   "metadata": {}
  },
  {
   "cell_type": "code",
   "execution_count": 125,
   "metadata": {},
   "outputs": [
    {
     "output_type": "execute_result",
     "data": {
      "text/plain": [
       "       time                      label         result  n_particles  size\n",
       "0  0.002953       vectorized, dot, jit  -4.850268e-06         1200  2000\n",
       "0  0.001732    vectorized, einsum, jit  -4.850267e-06         1200  2000\n",
       "0  0.000078  vectorized, recycled, jit  -4.850268e-06         1200  2000"
      ],
      "text/html": "<div>\n<style scoped>\n    .dataframe tbody tr th:only-of-type {\n        vertical-align: middle;\n    }\n\n    .dataframe tbody tr th {\n        vertical-align: top;\n    }\n\n    .dataframe thead th {\n        text-align: right;\n    }\n</style>\n<table border=\"1\" class=\"dataframe\">\n  <thead>\n    <tr style=\"text-align: right;\">\n      <th></th>\n      <th>time</th>\n      <th>label</th>\n      <th>result</th>\n      <th>n_particles</th>\n      <th>size</th>\n    </tr>\n  </thead>\n  <tbody>\n    <tr>\n      <th>0</th>\n      <td>0.002953</td>\n      <td>vectorized, dot, jit</td>\n      <td>-4.850268e-06</td>\n      <td>1200</td>\n      <td>2000</td>\n    </tr>\n    <tr>\n      <th>0</th>\n      <td>0.001732</td>\n      <td>vectorized, einsum, jit</td>\n      <td>-4.850267e-06</td>\n      <td>1200</td>\n      <td>2000</td>\n    </tr>\n    <tr>\n      <th>0</th>\n      <td>0.000078</td>\n      <td>vectorized, recycled, jit</td>\n      <td>-4.850268e-06</td>\n      <td>1200</td>\n      <td>2000</td>\n    </tr>\n  </tbody>\n</table>\n</div>"
     },
     "metadata": {},
     "execution_count": 125
    }
   ],
   "source": [
    "domain = Domain()\n",
    "domain.fill(1200,2000,1)\n",
    "data = pd.DataFrame()\n",
    "n = 20\n",
    "\n",
    "\n",
    "data = data.append(benchMark(domain, Epot_vectorized2_jit, \"vectorized, recycled, jit\", n))\n",
    "#data = data.append(benchMark(domain, Epot_vectorized3_jit, \"vectorized, recycled, half, slice, jit\", n))\n",
    "#data = data.append(benchMark(domain, Epot_vectorized4_jit, \"vectorized, compound, half slice, jit\", n))\n",
    "data = data.append(benchMark(domain, Epot_vectorized_einsum_jit, \"vectorized, einsum, jit\", n))\n",
    "data = data.append(benchMark(domain, Epot_vectorized2_dot_jit, \"vectorized, dot, jit\", n))\n",
    "\n",
    "data = data.drop_duplicates(subset=[\"label\"])\n",
    "data = data.sort_values(by=\"time\", ascending=False)\n",
    "data"
   ]
  },
  {
   "cell_type": "code",
   "execution_count": null,
   "metadata": {},
   "outputs": [],
   "source": []
  },
  {
   "cell_type": "code",
   "execution_count": 122,
   "metadata": {},
   "outputs": [
    {
     "output_type": "stream",
     "name": "stdout",
     "text": [
      "-0.00071735494\n-0.0007173549965955317\n"
     ]
    }
   ],
   "source": [
    "\n",
    "def Epot_vectorized_einsum(x):\n",
    "    n = len(x)\n",
    "    broadcasted = x[:, jnp.newaxis, :] - x   # calculate the distance between all particles while utilizing jnp.broadcast\n",
    "    v = broadcasted.reshape(n*n,3)\n",
    "    r = jnp.einsum(\"ij,ij->i\",v,v)  # calculate squared norm\n",
    "    r6 =  jnp.nan_to_num(jnp.power(r, -3), posinf=0.0)  # = (1/r²)^6\n",
    "    return 4*(2*r6*r6 - r6).sum()\n",
    "\n",
    "domain = Domain()\n",
    "domain.fill(2,10,1)\n",
    "print(Epot_vectorized3(domain.pos))\n",
    "print(Epot_vectorized(domain.pos))"
   ]
  },
  {
   "source": [
    "# detailed analysis of Epot_vectorized2"
   ],
   "cell_type": "markdown",
   "metadata": {}
  },
  {
   "cell_type": "code",
   "execution_count": 123,
   "metadata": {},
   "outputs": [
    {
     "output_type": "stream",
     "name": "stderr",
     "text": [
      "<ipython-input-123-2986ebbb10a8>:2: DeprecationWarning: The default dtype for empty Series will be 'object' instead of 'float64' in a future version. Specify a dtype explicitly to silence this warning.\n  df = pd.Series()\n"
     ]
    },
    {
     "output_type": "execute_result",
     "data": {
      "text/plain": [
       "broadcast    0.000530\n",
       "len          0.000001\n",
       "norm         0.000258\n",
       "r6           0.001069\n",
       "res          0.001486\n",
       "reshape      0.000003\n",
       "dtype: float64"
      ]
     },
     "metadata": {},
     "execution_count": 123
    }
   ],
   "source": [
    "def Epot_vectorized2(x):\n",
    "    df = pd.Series()\n",
    "\n",
    "    start = time.time()\n",
    "    n = len(x)\n",
    "    end = time.time()\n",
    "    df[\"len\"] = end-start\n",
    "\n",
    "    start = time.time()\n",
    "    broadcasted = x[:, jnp.newaxis, :] - x   # calculate the distance between all particles while utilizing jnp.broadcast\n",
    "    end = time.time()\n",
    "    df[\"broadcast\"] = end-start\n",
    "\n",
    "    start = time.time()\n",
    "    broadcasted = broadcasted.reshape(n*n,3)\n",
    "    end = time.time()\n",
    "    df[\"reshape\"] = end-start\n",
    "\n",
    "    start = time.time()\n",
    "    r = jnp.linalg.norm(broadcasted, axis=1)  # calculate the euclidian norm of all distances\n",
    "    end = time.time()\n",
    "    df[\"norm\"] = end-start\n",
    "\n",
    "    start = time.time()\n",
    "    r6 =  jnp.nan_to_num(jnp.power(r, -6), posinf=0.0)\n",
    "    end = time.time()\n",
    "    df[\"r6\"] = end-start\n",
    "\n",
    "    start = time.time()\n",
    "    res = 4*(2*r6*r6 - r6).sum()\n",
    "    end = time.time()\n",
    "    df[\"res\"] = end-start\n",
    "    return df\n",
    "\n",
    "\n",
    "domain = Domain()\n",
    "domain.fill(200, 200, 1)\n",
    "df = pd.DataFrame()\n",
    "for i in range(100):\n",
    "    df = df.append(Epot_vectorized2(domain.pos),ignore_index=True)\n",
    "\n",
    "df.mean()"
   ]
  },
  {
   "cell_type": "code",
   "execution_count": 124,
   "metadata": {},
   "outputs": [
    {
     "output_type": "stream",
     "name": "stdout",
     "text": [
      "-0.041363675\n-0.041363675\n"
     ]
    }
   ],
   "source": [
    "def Epot_vectorized2(x):\n",
    "    n = len(x)\n",
    "    broadcasted = x[:, jnp.newaxis, :] - x   # calculate the distance between all particles while utilizing jnp.broadcast\n",
    "    broadcasted = broadcasted.reshape(n*n,3)\n",
    "    r = jnp.linalg.norm(broadcasted, axis=1)  # calculate the euclidian norm of all distances\n",
    "    r6 =  jnp.nan_to_num(jnp.power(r, -6), posinf=0.0)\n",
    "    return 4*(2*r6*r6 - r6).sum()\n",
    "\n",
    "def Epot_vectorized_dot(x):\n",
    "    n = len(x)\n",
    "    broadcasted = x[:, jnp.newaxis, :] - x   # calculate the distance between all particles while utilizing jnp.broadcast\n",
    "    broadcasted = broadcasted.reshape(n*n,3)\n",
    "    r = jnp.linalg.norm(broadcasted, axis=1)  # calculate the euclidian norm of all distances\n",
    "    r6 =  jnp.nan_to_num(jnp.power(r, -6), posinf=0.0)\n",
    "    return 4*(2*jnp.dot(r6,r6) - r6.sum())\n",
    "\n",
    "domain = Domain()\n",
    "domain.fill(200, 200, 1)\n",
    "print(Epot_vectorized2(domain.pos))\n",
    "print(Epot_vectorized_dot(domain.pos))"
   ]
  },
  {
   "cell_type": "code",
   "execution_count": null,
   "metadata": {},
   "outputs": [],
   "source": []
  }
 ]
}