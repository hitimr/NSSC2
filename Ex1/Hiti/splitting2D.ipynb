{
 "metadata": {
  "language_info": {
   "codemirror_mode": {
    "name": "ipython",
    "version": 3
   },
   "file_extension": ".py",
   "mimetype": "text/x-python",
   "name": "python",
   "nbconvert_exporter": "python",
   "pygments_lexer": "ipython3",
   "version": "3.6.9"
  },
  "orig_nbformat": 2,
  "kernelspec": {
   "name": "python3",
   "display_name": "Python 3",
   "language": "python"
  }
 },
 "nbformat": 4,
 "nbformat_minor": 2,
 "cells": [
  {
   "cell_type": "code",
   "execution_count": 1,
   "metadata": {},
   "outputs": [],
   "source": [
    "import numpy as np\n",
    "import math"
   ]
  },
  {
   "cell_type": "code",
   "execution_count": 2,
   "metadata": {},
   "outputs": [
    {
     "output_type": "stream",
     "name": "stdout",
     "text": [
      "[2, 7]\n"
     ]
    }
   ],
   "source": [
    "# taken from https://gist.githubusercontent.com/rohan-paul/3b0ef7d6ca9bbcfd3625132be1c29cdc/raw/a1937ce0d746ca4002522ec157561e8de4434701/prime-factors-of-number-simple-python.py\n",
    "def get_prime_factors(number):\n",
    "    # create an empty list and later I will\n",
    "    # run a for loop with range() function using the append() method to add elements to the list.\n",
    "    prime_factors = []\n",
    "\n",
    "    # First get the number of two's that divide number\n",
    "    # i.e the number of 2's that are in the factors\n",
    "    while number % 2 == 0:\n",
    "        prime_factors.append(2)\n",
    "        number = number / 2\n",
    "\n",
    "    for i in range(3, int(math.sqrt(number)) + 1, 2):\n",
    "        while number % i == 0:\n",
    "            prime_factors.append(int(i))\n",
    "            number = number / i\n",
    "\n",
    "    if number > 2:\n",
    "        prime_factors.append(int(number))\n",
    "\n",
    "    return prime_factors\n",
    "\n",
    "def split1D(length, n):\n",
    "    base_size = length // n\n",
    "    remainder = length % n\n",
    "\n",
    "print(get_prime_factors(14))"
   ]
  },
  {
   "cell_type": "code",
   "execution_count": 3,
   "metadata": {},
   "outputs": [
    {
     "output_type": "stream",
     "name": "stdout",
     "text": [
      "Splits: 2 x 3\n[18, 12][17, 12]\n[18, 12][17, 12]\n[18, 11][17, 11]\n\ny_dim = 35\nsum_x = 35\nsum_y = 35\n"
     ]
    }
   ],
   "source": [
    "n_processes = 2*3\n",
    "y_dim = 5*7\n",
    "\n",
    "def split1D(n, splits, pos):\n",
    "    size = n // splits\n",
    "    remainder = n % splits\n",
    "\n",
    "    if(pos < remainder):\n",
    "        size = size + 1\n",
    "\n",
    "    return size\n",
    "\n",
    "def get_size(coord_x, coord_y):\n",
    "    prime_factors = get_prime_factors(n_processes)\n",
    "    if(len(prime_factors) < 2):\n",
    "        raise ValueError(\"number of processes is prime!\")\n",
    "        pass\n",
    "\n",
    "    else:\n",
    "        n_x = prime_factors[0] # Splits in x directtion\n",
    "        n_y = int(n_processes / n_x) # splits in y direction\n",
    "\n",
    "        size_x = int(split1D(y_dim, n_x, coord_x))\n",
    "        size_y = int(split1D(y_dim, n_y, coord_y))\n",
    "        \n",
    "\n",
    "\n",
    "    return [size_x, size_y]\n",
    "\n",
    "\n",
    "n_x = get_prime_factors(n_processes)[0] # Splits in x directtion\n",
    "n_y = int(n_processes / n_x) # splits in y direction\n",
    "\n",
    "print(f\"Splits: {n_x} x {n_y}\")\n",
    "\n",
    "sum_x, sum_y = 0,0\n",
    "for y in range(int(n_y)):\n",
    "    for x in range(n_x):\n",
    "        size = get_size(x,y)\n",
    "        print(f\"{size}\", end=\"\")\n",
    "        \n",
    "    print(\"\")\n",
    "\n",
    "print(f\"\\ny_dim = {y_dim}\")\n",
    "for x in range(n_x): \n",
    "    sum_x += get_size(x,0)[0]\n",
    "for y in range(n_y): \n",
    "    sum_y += get_size(0,y)[1]\n",
    "\n",
    "print(f\"sum_x = {sum_x}\")\n",
    "print(f\"sum_y = {sum_y}\")"
   ]
  },
  {
   "source": [
    "# Tests"
   ],
   "cell_type": "markdown",
   "metadata": {}
  },
  {
   "cell_type": "code",
   "execution_count": 4,
   "metadata": {
    "tags": []
   },
   "outputs": [
    {
     "output_type": "stream",
     "name": "stdout",
     "text": [
      "Tests finished with 0 errors\n"
     ]
    }
   ],
   "source": [
    "error = 0\n",
    "for n_processes in range(2, 32):\n",
    "    for y_dim in range(1, 512):\n",
    "        prime_factors = get_prime_factors(n_processes)\n",
    "        if(len(prime_factors) >= 2):    # skip primes\n",
    "            n_x = prime_factors[0] # Splits in x directtion\n",
    "            n_y = int(n_processes / n_x) # splits in y direction\n",
    "\n",
    "\n",
    "            # Check sums\n",
    "            sum_x, sum_y = 0,0\n",
    "            for x in range(n_x): \n",
    "                sum_x += get_size(x,0)[0]\n",
    "            for y in range(n_y): \n",
    "                sum_y += get_size(0,y)[1]\n",
    "\n",
    "            try:\n",
    "                assert(sum_x == y_dim)\n",
    "                assert(sum_y == y_dim)\n",
    "            except:\n",
    "                print(f\"\\ny_dim = {y_dim}\")\n",
    "                print(f\"sum_x = {sum_x}\")\n",
    "                print(f\"sum_y = {sum_y}\")\n",
    "                error += 1\n",
    "\n",
    "            \n",
    "            # Check dimensions\n",
    "            try:\n",
    "                for y in range(n_y):\n",
    "                    for x in range(n_x):\n",
    "                        assert(get_size(x,y)[0] == get_size(x,0)[0])\n",
    "                        assert(get_size(x,y)[1] == get_size(0,y)[1])\n",
    "            except:\n",
    "                print(f\"Dimensions do not match\")\n",
    "                error += 1\n",
    "\n",
    "print(f\"Tests finished with {error} errors\")"
   ]
  },
  {
   "cell_type": "code",
   "execution_count": null,
   "metadata": {},
   "outputs": [],
   "source": []
  }
 ]
}