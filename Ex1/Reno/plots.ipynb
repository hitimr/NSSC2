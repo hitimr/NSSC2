{
 "metadata": {
  "language_info": {
   "codemirror_mode": {
    "name": "ipython",
    "version": 3
   },
   "file_extension": ".py",
   "mimetype": "text/x-python",
   "name": "python",
   "nbconvert_exporter": "python",
   "pygments_lexer": "ipython3",
   "version": "3.8.5-final"
  },
  "orig_nbformat": 2,
  "kernelspec": {
   "name": "python385jvsc74a57bd031f2aee4e71d21fbe5cf8b01ff0e069b9275f58929596ceb00d14d90e3e16cd6",
   "display_name": "Python 3.8.5 64-bit"
  },
  "metadata": {
   "interpreter": {
    "hash": "31f2aee4e71d21fbe5cf8b01ff0e069b9275f58929596ceb00d14d90e3e16cd6"
   }
  }
 },
 "nbformat": 4,
 "nbformat_minor": 2,
 "cells": [
  {
   "cell_type": "code",
   "execution_count": 1,
   "metadata": {},
   "outputs": [],
   "source": [
    "import pandas as pd\n",
    "import numpy\n"
   ]
  },
  {
   "cell_type": "code",
   "execution_count": 12,
   "metadata": {},
   "outputs": [
    {
     "output_type": "execute_result",
     "data": {
      "text/plain": [
       "        n_processes;1\n",
       "0    runtime;0.062350\n",
       "1   error;6193.016586\n",
       "2       n_processes;2\n",
       "3    runtime;0.052350\n",
       "4   error;6193.016586\n",
       "5       n_processes;3\n",
       "6    runtime;0.042350\n",
       "7   error;6193.016586\n",
       "8       n_processes;4\n",
       "9    runtime;0.032350\n",
       "10  error;6193.016586\n",
       "11      n_processes;5\n",
       "12   runtime;0.022350\n",
       "13  error;6193.016586\n",
       "14      n_processes;6\n",
       "15   runtime;0.012350\n",
       "16  error;6193.016586"
      ],
      "text/html": "<div>\n<style scoped>\n    .dataframe tbody tr th:only-of-type {\n        vertical-align: middle;\n    }\n\n    .dataframe tbody tr th {\n        vertical-align: top;\n    }\n\n    .dataframe thead th {\n        text-align: right;\n    }\n</style>\n<table border=\"1\" class=\"dataframe\">\n  <thead>\n    <tr style=\"text-align: right;\">\n      <th></th>\n      <th>n_processes;1</th>\n    </tr>\n  </thead>\n  <tbody>\n    <tr>\n      <th>0</th>\n      <td>runtime;0.062350</td>\n    </tr>\n    <tr>\n      <th>1</th>\n      <td>error;6193.016586</td>\n    </tr>\n    <tr>\n      <th>2</th>\n      <td>n_processes;2</td>\n    </tr>\n    <tr>\n      <th>3</th>\n      <td>runtime;0.052350</td>\n    </tr>\n    <tr>\n      <th>4</th>\n      <td>error;6193.016586</td>\n    </tr>\n    <tr>\n      <th>5</th>\n      <td>n_processes;3</td>\n    </tr>\n    <tr>\n      <th>6</th>\n      <td>runtime;0.042350</td>\n    </tr>\n    <tr>\n      <th>7</th>\n      <td>error;6193.016586</td>\n    </tr>\n    <tr>\n      <th>8</th>\n      <td>n_processes;4</td>\n    </tr>\n    <tr>\n      <th>9</th>\n      <td>runtime;0.032350</td>\n    </tr>\n    <tr>\n      <th>10</th>\n      <td>error;6193.016586</td>\n    </tr>\n    <tr>\n      <th>11</th>\n      <td>n_processes;5</td>\n    </tr>\n    <tr>\n      <th>12</th>\n      <td>runtime;0.022350</td>\n    </tr>\n    <tr>\n      <th>13</th>\n      <td>error;6193.016586</td>\n    </tr>\n    <tr>\n      <th>14</th>\n      <td>n_processes;6</td>\n    </tr>\n    <tr>\n      <th>15</th>\n      <td>runtime;0.012350</td>\n    </tr>\n    <tr>\n      <th>16</th>\n      <td>error;6193.016586</td>\n    </tr>\n  </tbody>\n</table>\n</div>"
     },
     "metadata": {},
     "execution_count": 12
    }
   ],
   "source": [
    "dataframe=pd.read_csv('testlog.csv')\n",
    "dataframe"
   ]
  },
  {
   "cell_type": "code",
   "execution_count": null,
   "metadata": {},
   "outputs": [],
   "source": []
  },
  {
   "cell_type": "code",
   "execution_count": null,
   "metadata": {},
   "outputs": [],
   "source": []
  }
 ]
}