{
 "metadata": {
  "language_info": {
   "codemirror_mode": {
    "name": "ipython",
    "version": 3
   },
   "file_extension": ".py",
   "mimetype": "text/x-python",
   "name": "python",
   "nbconvert_exporter": "python",
   "pygments_lexer": "ipython3",
   "version": "3.8.5-final"
  },
  "orig_nbformat": 2,
  "kernelspec": {
   "name": "python385jvsc74a57bd031f2aee4e71d21fbe5cf8b01ff0e069b9275f58929596ceb00d14d90e3e16cd6",
   "display_name": "Python 3.8.5 64-bit"
  },
  "metadata": {
   "interpreter": {
    "hash": "31f2aee4e71d21fbe5cf8b01ff0e069b9275f58929596ceb00d14d90e3e16cd6"
   }
  }
 },
 "nbformat": 4,
 "nbformat_minor": 2,
 "cells": [
  {
   "cell_type": "code",
   "execution_count": null,
   "metadata": {},
   "outputs": [],
   "source": [
    "import pandas as pd\n",
    "import numpy as np\n",
    "import matplotlib.pyplot as plt"
   ]
  },
  {
   "source": [
    "# Preparing Dataframe old log layout"
   ],
   "cell_type": "markdown",
   "metadata": {}
  },
  {
   "cell_type": "code",
   "execution_count": null,
   "metadata": {},
   "outputs": [],
   "source": [
    "\"\"\"\n",
    "dataframe=pd.read_csv('out/logs/log.csv', sep=\";\", names=[\"res\",\"n_procs\",\"runtime\",\"error\"])\n",
    "\n",
    "#dataframe.set_index(\"res\",\"n_procs\")\n",
    "\n",
    "speedupcol = dataframe.iloc[0]['runtime']/dataframe[\"runtime\"]\n",
    "dataframe[\"speedup\"] = speedupcol\n",
    "\n",
    "dataframe1 = dataframe[dataframe[\"res\"] == 125]\n",
    "dataframe2 = dataframe[dataframe[\"res\"] == 500]\n",
    "dataframe3 = dataframe[dataframe[\"res\"] == 2000]\n",
    "dataframe4 = dataframe[dataframe[\"res\"] == 4000]\n",
    "\n",
    "dataframe\n",
    "\"\"\""
   ]
  },
  {
   "source": [
    "# Preparing Dataframe new log layout"
   ],
   "cell_type": "markdown",
   "metadata": {}
  },
  {
   "cell_type": "code",
   "execution_count": null,
   "metadata": {},
   "outputs": [],
   "source": [
    "#read df\n",
    "dataframe=pd.read_csv('out/datacluster/all_logs.txt', sep=\"\\t\", names=[\"all\"])\n",
    "\n",
    "#zerlegen des df\n",
    "res = dataframe.iloc[0:len(dataframe):13].reset_index().drop(['index'], axis=1)\n",
    "res = res[\"all\"].str.split(\"=\",expand=True).drop([0], axis=1).rename({1: 'res'}, axis=1)\n",
    "\n",
    "dtype = dataframe.iloc[5:len(dataframe):13].reset_index().drop(['index'], axis=1)\n",
    "dtype = dtype[\"all\"].str.split(\"=\",expand=True).drop([0], axis=1).rename({1: 'dtype'}, axis=1)\n",
    "\n",
    "nproc = dataframe.iloc[6:len(dataframe):13].reset_index().drop(['index'], axis=1)\n",
    "nproc = nproc[\"all\"].str.split(\"=\",expand=True).drop([0], axis=1).rename({1: 'nproc'}, axis=1).rename({'all': 'nproc'}, axis=1)\n",
    "\n",
    "resi = dataframe.iloc[7:len(dataframe):13].reset_index().drop(['index'], axis=1)\n",
    "resi = resi[\"all\"].str.split(\"=\",expand=True).drop([0], axis=1).rename({1: 'resi'}, axis=1).rename({'all': 'resi'}, axis=1)\n",
    "\n",
    "resimax = dataframe.iloc[8:len(dataframe):13].reset_index().drop(['index'], axis=1)\n",
    "resimax = resimax[\"all\"].str.split(\"=\",expand=True).drop([0], axis=1).rename({1: 'resimax'}, axis=1).rename({'all': 'resimax'}, axis=1)\n",
    "\n",
    "err = dataframe.iloc[9:len(dataframe):13].reset_index().drop(['index'], axis=1)\n",
    "err = err[\"all\"].str.split(\"=\",expand=True).drop([0], axis=1).rename({1: 'err'}, axis=1).rename({'all': 'err'}, axis=1)\n",
    "\n",
    "errmax = dataframe.iloc[10:len(dataframe):13].reset_index().drop(['index'], axis=1)\n",
    "errmax = errmax[\"all\"].str.split(\"=\",expand=True).drop([0], axis=1).rename({1: 'errmax'}, axis=1).rename({'all': 'errmax'}, axis=1)\n",
    "\n",
    "runtime = dataframe.iloc[11:len(dataframe):13].reset_index().drop(['index'], axis=1)\n",
    "runtime = runtime[\"all\"].str.split(\"=\",expand=True).drop([0], axis=1).rename({1: 'runtime'}, axis=1).rename({'all': 'runtime'}, axis=1)\n",
    "\n",
    "ittime = dataframe.iloc[12:len(dataframe):13].reset_index().drop(['index'], axis=1)\n",
    "ittime = ittime[\"all\"].str.split(\"=\",expand=True).drop([0], axis=1).rename({1: 'ittime'}, axis=1).rename({'all': 'ittime'}, axis=1)\n",
    "\n",
    "#mergen des df\n",
    "dataframe = res\n",
    "dataframe['dtype'] = dtype['dtype']\n",
    "dataframe['nproc'] = pd.to_numeric(nproc['nproc'])\n",
    "dataframe['resi'] = pd.to_numeric(resi['resi'])\n",
    "dataframe['resimax'] = pd.to_numeric(resimax['resimax'])\n",
    "dataframe['err'] = pd.to_numeric(err['err'])\n",
    "dataframe['errmax'] = pd.to_numeric(errmax['errmax'])\n",
    "dataframe['runtime'] = pd.to_numeric(runtime['runtime'])\n",
    "dataframe['ittime'] = pd.to_numeric(ittime['ittime'])"
   ]
  },
  {
   "source": [
    "# extracting resolution and datatype"
   ],
   "cell_type": "markdown",
   "metadata": {}
  },
  {
   "cell_type": "code",
   "execution_count": null,
   "metadata": {},
   "outputs": [],
   "source": [
    "res1 = dataframe[dataframe[\"res\"] == \"125\"]\n",
    "res1f = res1[res1[\"dtype\"] == \" FLOAT\"].sort_values(by=['nproc'])\n",
    "res1d = res1[res1[\"dtype\"] == \" DOUBLE\"].sort_values(by=['nproc'])\n",
    "\n",
    "res2 = dataframe[dataframe[\"res\"] == \"500\"]\n",
    "res2f = res2[res2[\"dtype\"] == \" FLOAT\"].sort_values(by=['nproc'])\n",
    "res2d = res2[res2[\"dtype\"] == \" DOUBLE\"].sort_values(by=['nproc'])\n",
    "\n",
    "res3 = dataframe[dataframe[\"res\"] == \"2000\"]\n",
    "res3f = res3[res3[\"dtype\"] == \" FLOAT\"].sort_values(by=['nproc'])\n",
    "res3d = res3[res3[\"dtype\"] == \" DOUBLE\"].sort_values(by=['nproc'])\n",
    "\n",
    "res4 = dataframe[dataframe[\"res\"] == \"4000\"]\n",
    "res4f = res4[res4[\"dtype\"] == \" FLOAT\"].sort_values(by=['nproc'])\n",
    "res4d = res4[res4[\"dtype\"] == \" DOUBLE\"].sort_values(by=['nproc'])"
   ]
  },
  {
   "source": [
    "# computing speedup"
   ],
   "cell_type": "markdown",
   "metadata": {}
  },
  {
   "cell_type": "code",
   "execution_count": null,
   "metadata": {},
   "outputs": [],
   "source": [
    "speedup1f = res1f.iloc[0]['runtime']/res1f[\"runtime\"]\n",
    "speedup1d = res1d.iloc[0]['runtime']/res1d[\"runtime\"]\n",
    "speedup2f = res2f.iloc[0]['runtime']/res2f[\"runtime\"]\n",
    "speedup2d = res2d.iloc[0]['runtime']/res2d[\"runtime\"]\n",
    "speedup3f = res3f.iloc[0]['runtime']/res3f[\"runtime\"]\n",
    "speedup3d = res3d.iloc[0]['runtime']/res3d[\"runtime\"]\n",
    "speedup4f = res4f.iloc[0]['runtime']/res4f[\"runtime\"]\n",
    "speedup4d = res4d.iloc[0]['runtime']/res4d[\"runtime\"]\n",
    "\n",
    "res1f[\"speedup\"] = speedup1f\n",
    "res1d[\"speedup\"] = speedup1d\n",
    "res2f[\"speedup\"] = speedup2f\n",
    "res2d[\"speedup\"] = speedup2d\n",
    "res3f[\"speedup\"] = speedup3f\n",
    "res3d[\"speedup\"] = speedup3d\n",
    "res4f[\"speedup\"] = speedup4f\n",
    "res4d[\"speedup\"] = speedup4d"
   ]
  },
  {
   "source": [
    "# Plotting Speedup"
   ],
   "cell_type": "markdown",
   "metadata": {}
  },
  {
   "cell_type": "code",
   "execution_count": null,
   "metadata": {},
   "outputs": [],
   "source": [
    "res1f_speedup = res1f.plot.line(\"nproc\",\"speedup\",title=\"res1f_speedup\")\n",
    "res1d_speedup = res1d.plot.line(\"nproc\",\"speedup\",title=\"res1d_speedup\")\n",
    "res2f_speedup = res2f.plot.line(\"nproc\",\"speedup\",title=\"res2f_speedup\")\n",
    "res2d_speedup = res2d.plot.line(\"nproc\",\"speedup\",title=\"res2d_speedup\")\n",
    "res3f_speedup = res3f.plot.line(\"nproc\",\"speedup\",title=\"res3f_speedup\")\n",
    "res3d_speedup = res3d.plot.line(\"nproc\",\"speedup\",title=\"res3d_speedup\")\n",
    "res4f_speedup = res4f.plot.line(\"nproc\",\"speedup\",title=\"res4f_speedup\")\n",
    "res4d_speedup = res4d.plot.line(\"nproc\",\"speedup\",title=\"res4d_speedup\")"
   ]
  },
  {
   "source": [
    "# Plotting Error"
   ],
   "cell_type": "markdown",
   "metadata": {}
  },
  {
   "cell_type": "code",
   "execution_count": null,
   "metadata": {},
   "outputs": [],
   "source": [
    "res1f_error = res1f.plot.line(\"nproc\",\"err\",title=\"res1f_error\")\n",
    "res1d_error = res1d.plot.line(\"nproc\",\"err\",title=\"res1d_error\")\n",
    "res2f_error = res2f.plot.line(\"nproc\",\"err\",title=\"res2f_error\")\n",
    "res2d_error = res2d.plot.line(\"nproc\",\"err\",title=\"res2d_error\")\n",
    "res3f_error = res3f.plot.line(\"nproc\",\"err\",title=\"res3f_error\")\n",
    "res3d_error = res3d.plot.line(\"nproc\",\"err\",title=\"res3d_error\")\n",
    "res4f_error = res4f.plot.line(\"nproc\",\"err\",title=\"res4f_error\")\n",
    "res4d_error = res4d.plot.line(\"nproc\",\"err\",title=\"res4d_error\")"
   ]
  },
  {
   "source": [
    "# save files"
   ],
   "cell_type": "markdown",
   "metadata": {}
  },
  {
   "cell_type": "code",
   "execution_count": 463,
   "metadata": {},
   "outputs": [],
   "source": [
    "res1f_speedup.figure.savefig('out/plots/res1f_speedup.png')\n",
    "res1d_speedup.figure.savefig('out/plots/res1d_speedup.png')\n",
    "res2f_speedup.figure.savefig('out/plots/res2f_speedup.png')\n",
    "res2d_speedup.figure.savefig('out/plots/res2d_speedup.png')\n",
    "res3f_speedup.figure.savefig('out/plots/res3f_speedup.png')\n",
    "res3d_speedup.figure.savefig('out/plots/res3d_speedup.png')\n",
    "res4f_speedup.figure.savefig('out/plots/res4f_speedup.png')\n",
    "res4d_speedup.figure.savefig('out/plots/res4d_speedup.png')\n",
    "\n",
    "res1f_error.figure.savefig('out/plots/res1f_error.png')\n",
    "res1d_error.figure.savefig('out/plots/res1d_error.png')\n",
    "res2f_error.figure.savefig('out/plots/res2f_error.png')\n",
    "res2d_error.figure.savefig('out/plots/res2d_error.png')\n",
    "res3f_error.figure.savefig('out/plots/res3f_error.png')\n",
    "res3d_error.figure.savefig('out/plots/res3d_error.png')\n",
    "res4f_error.figure.savefig('out/plots/res4f_error.png')\n",
    "res4d_error.figure.savefig('out/plots/res4d_error.png')"
   ]
  }
 ]
}